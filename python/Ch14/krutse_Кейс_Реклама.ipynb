{
  "nbformat": 4,
  "nbformat_minor": 0,
  "metadata": {
    "colab": {
      "provenance": [],
      "include_colab_link": true
    },
    "kernelspec": {
      "name": "python3",
      "display_name": "Python 3"
    },
    "language_info": {
      "name": "python"
    }
  },
  "cells": [
    {
      "cell_type": "markdown",
      "metadata": {
        "id": "view-in-github",
        "colab_type": "text"
      },
      "source": [
        "<a href=\"https://colab.research.google.com/github/krutse/sim-git/blob/master/python/Ch14/krutse_%D0%9A%D0%B5%D0%B9%D1%81_%D0%A0%D0%B5%D0%BA%D0%BB%D0%B0%D0%BC%D0%B0.ipynb\" target=\"_parent\"><img src=\"https://colab.research.google.com/assets/colab-badge.svg\" alt=\"Open In Colab\"/></a>"
      ]
    },
    {
      "cell_type": "markdown",
      "source": [
        "## 2 кейс\n",
        "\n",
        "**В этом кейсе вы будете рассчитывать:**\n",
        "* самую эффективную платформу\n",
        "* самый успешный тип рекламной кампании\n",
        "* географию\n",
        "* рекламные расходы по городам\n",
        "* даты, в которые не запускались кампании\n",
        "* и еще кое-что"
      ],
      "metadata": {
        "id": "T_xBU6WvyPhY"
      }
    },
    {
      "cell_type": "markdown",
      "source": [
        "**Важно**\n",
        "\n",
        "Перед началом решения задачи выполните следующую ячейку - в ней скачиваются необходимые файлы.\n",
        "\n",
        "Работать вы будут с файлом `campaign_data.csv`."
      ],
      "metadata": {
        "id": "U2D5zGSdzc92"
      }
    },
    {
      "cell_type": "code",
      "execution_count": 8,
      "metadata": {
        "id": "3eJFMuMpyCp-",
        "colab": {
          "base_uri": "https://localhost:8080/"
        },
        "outputId": "2402a7b7-f452-433b-e9dc-b43be6fed73c"
      },
      "outputs": [
        {
          "output_type": "stream",
          "name": "stdout",
          "text": [
            "--2025-07-30 10:18:28--  https://gist.github.com/Vs8th/73045f9fe675f43ef7e63ab56f1c08bd/raw/campaign_data.csv\n",
            "Resolving gist.github.com (gist.github.com)... 140.82.114.4\n",
            "Connecting to gist.github.com (gist.github.com)|140.82.114.4|:443... connected.\n",
            "HTTP request sent, awaiting response... 301 Moved Permanently\n",
            "Location: https://gist.githubusercontent.com/Vs8th/73045f9fe675f43ef7e63ab56f1c08bd/raw/campaign_data.csv [following]\n",
            "--2025-07-30 10:18:28--  https://gist.githubusercontent.com/Vs8th/73045f9fe675f43ef7e63ab56f1c08bd/raw/campaign_data.csv\n",
            "Resolving gist.githubusercontent.com (gist.githubusercontent.com)... 185.199.110.133, 185.199.109.133, 185.199.108.133, ...\n",
            "Connecting to gist.githubusercontent.com (gist.githubusercontent.com)|185.199.110.133|:443... connected.\n",
            "HTTP request sent, awaiting response... 200 OK\n",
            "Length: 116478 (114K) [text/plain]\n",
            "Saving to: ‘campaign_data.csv.1’\n",
            "\n",
            "campaign_data.csv.1 100%[===================>] 113.75K  --.-KB/s    in 0.02s   \n",
            "\n",
            "2025-07-30 10:18:28 (4.52 MB/s) - ‘campaign_data.csv.1’ saved [116478/116478]\n",
            "\n",
            "--2025-07-30 10:18:28--  https://gist.github.com/Vs8th/2d55f7828343a0b5e570b47552c3affe/raw/marketing_campaigns.txt\n",
            "Resolving gist.github.com (gist.github.com)... 140.82.114.4\n",
            "Connecting to gist.github.com (gist.github.com)|140.82.114.4|:443... connected.\n",
            "HTTP request sent, awaiting response... 301 Moved Permanently\n",
            "Location: https://gist.githubusercontent.com/Vs8th/2d55f7828343a0b5e570b47552c3affe/raw/marketing_campaigns.txt [following]\n",
            "--2025-07-30 10:18:28--  https://gist.githubusercontent.com/Vs8th/2d55f7828343a0b5e570b47552c3affe/raw/marketing_campaigns.txt\n",
            "Resolving gist.githubusercontent.com (gist.githubusercontent.com)... 185.199.109.133, 185.199.111.133, 185.199.110.133, ...\n",
            "Connecting to gist.githubusercontent.com (gist.githubusercontent.com)|185.199.109.133|:443... connected.\n",
            "HTTP request sent, awaiting response... 200 OK\n",
            "Length: 2265 (2.2K) [text/plain]\n",
            "Saving to: ‘marketing_campaigns.txt.1’\n",
            "\n",
            "marketing_campaigns 100%[===================>]   2.21K  --.-KB/s    in 0s      \n",
            "\n",
            "2025-07-30 10:18:28 (33.2 MB/s) - ‘marketing_campaigns.txt.1’ saved [2265/2265]\n",
            "\n",
            "--2025-07-30 10:18:28--  https://gist.github.com/Vs8th/ff57611e607f407b186805ae15b08f1c/raw/cor_platform.txt\n",
            "Resolving gist.github.com (gist.github.com)... 140.82.114.4\n",
            "Connecting to gist.github.com (gist.github.com)|140.82.114.4|:443... connected.\n",
            "HTTP request sent, awaiting response... 301 Moved Permanently\n",
            "Location: https://gist.githubusercontent.com/Vs8th/ff57611e607f407b186805ae15b08f1c/raw/cor_platform.txt [following]\n",
            "--2025-07-30 10:18:28--  https://gist.githubusercontent.com/Vs8th/ff57611e607f407b186805ae15b08f1c/raw/cor_platform.txt\n",
            "Resolving gist.githubusercontent.com (gist.githubusercontent.com)... 185.199.109.133, 185.199.111.133, 185.199.110.133, ...\n",
            "Connecting to gist.githubusercontent.com (gist.githubusercontent.com)|185.199.109.133|:443... connected.\n",
            "HTTP request sent, awaiting response... 200 OK\n",
            "Length: 3580 (3.5K) [text/plain]\n",
            "Saving to: ‘cor_platform.txt.1’\n",
            "\n",
            "cor_platform.txt.1  100%[===================>]   3.50K  --.-KB/s    in 0s      \n",
            "\n",
            "2025-07-30 10:18:29 (53.9 MB/s) - ‘cor_platform.txt.1’ saved [3580/3580]\n",
            "\n"
          ]
        }
      ],
      "source": [
        "!wget https://gist.github.com/Vs8th/73045f9fe675f43ef7e63ab56f1c08bd/raw/campaign_data.csv\n",
        "\n",
        "!wget https://gist.github.com/Vs8th/2d55f7828343a0b5e570b47552c3affe/raw/marketing_campaigns.txt\n",
        "\n",
        "!wget https://gist.github.com/Vs8th/ff57611e607f407b186805ae15b08f1c/raw/cor_platform.txt"
      ]
    },
    {
      "cell_type": "code",
      "source": [
        "import pandas as pd\n",
        "\n",
        "df = pd.read_csv('campaign_data.csv')\n",
        "df"
      ],
      "metadata": {
        "id": "wDGa8T9iX4Nj",
        "colab": {
          "base_uri": "https://localhost:8080/",
          "height": 423
        },
        "outputId": "c6475e00-e924-4fc0-e914-07473ace4243"
      },
      "execution_count": 2,
      "outputs": [
        {
          "output_type": "execute_result",
          "data": {
            "text/plain": [
              "      ID Кампании Начальная дата Конечная дата           Тип кампании  \\\n",
              "0               1     2022-01-01    2022-11-30            Контекстная   \n",
              "1               2     2022-01-01    2022-08-27  Поисковая оптимизация   \n",
              "2               3     2022-01-02    2022-03-11              Баннерная   \n",
              "3               4     2022-01-02    2022-06-20           Видеореклама   \n",
              "4               8     2022-01-04    2022-12-06  Поисковая оптимизация   \n",
              "...           ...            ...           ...                    ...   \n",
              "1015         1240     2022-12-28    2022-12-29           Видеореклама   \n",
              "1016         1241     2022-12-28    2022-12-29    Нативная интеграция   \n",
              "1017         1243     2022-12-28    2022-12-30    Нативная интеграция   \n",
              "1018         1245     2022-12-29    2022-12-29  Поисковая оптимизация   \n",
              "1019         1246     2022-12-30    2022-12-30              Баннерная   \n",
              "\n",
              "      Платформа  Бюджет         Город  Показы   Клики  Конверсия  Доход  \n",
              "0      Telegram   35693        Казань  3217.0   507.0        188  44205  \n",
              "1     Вконтакте    1986        Москва  1362.0   305.0         95   9964  \n",
              "2     Instagram    2020  Екатеринбург  2420.0   541.0         87  14792  \n",
              "3        Google   18684        Москва   728.0   406.0         73  13824  \n",
              "4     Вконтакте   47936  Екатеринбург   356.0   129.0         31   3908  \n",
              "...         ...     ...           ...     ...     ...        ...    ...  \n",
              "1015  Instagram   24525        Калуга  5610.0   732.0         93  12208  \n",
              "1016   Telegram    2904  Екатеринбург   937.0   199.0         44   2839  \n",
              "1017   Telegram   27913        Казань  9309.0  1280.0        128  30575  \n",
              "1018     Google   23648   Новосибирск   854.0   252.0         71  17632  \n",
              "1019   Telegram    1909  Екатеринбург   848.0   228.0         31   4298  \n",
              "\n",
              "[1020 rows x 11 columns]"
            ],
            "text/html": [
              "\n",
              "  <div id=\"df-7f9d1aac-32fa-4098-bb80-6c87c1b306ee\" class=\"colab-df-container\">\n",
              "    <div>\n",
              "<style scoped>\n",
              "    .dataframe tbody tr th:only-of-type {\n",
              "        vertical-align: middle;\n",
              "    }\n",
              "\n",
              "    .dataframe tbody tr th {\n",
              "        vertical-align: top;\n",
              "    }\n",
              "\n",
              "    .dataframe thead th {\n",
              "        text-align: right;\n",
              "    }\n",
              "</style>\n",
              "<table border=\"1\" class=\"dataframe\">\n",
              "  <thead>\n",
              "    <tr style=\"text-align: right;\">\n",
              "      <th></th>\n",
              "      <th>ID Кампании</th>\n",
              "      <th>Начальная дата</th>\n",
              "      <th>Конечная дата</th>\n",
              "      <th>Тип кампании</th>\n",
              "      <th>Платформа</th>\n",
              "      <th>Бюджет</th>\n",
              "      <th>Город</th>\n",
              "      <th>Показы</th>\n",
              "      <th>Клики</th>\n",
              "      <th>Конверсия</th>\n",
              "      <th>Доход</th>\n",
              "    </tr>\n",
              "  </thead>\n",
              "  <tbody>\n",
              "    <tr>\n",
              "      <th>0</th>\n",
              "      <td>1</td>\n",
              "      <td>2022-01-01</td>\n",
              "      <td>2022-11-30</td>\n",
              "      <td>Контекстная</td>\n",
              "      <td>Telegram</td>\n",
              "      <td>35693</td>\n",
              "      <td>Казань</td>\n",
              "      <td>3217.0</td>\n",
              "      <td>507.0</td>\n",
              "      <td>188</td>\n",
              "      <td>44205</td>\n",
              "    </tr>\n",
              "    <tr>\n",
              "      <th>1</th>\n",
              "      <td>2</td>\n",
              "      <td>2022-01-01</td>\n",
              "      <td>2022-08-27</td>\n",
              "      <td>Поисковая оптимизация</td>\n",
              "      <td>Вконтакте</td>\n",
              "      <td>1986</td>\n",
              "      <td>Москва</td>\n",
              "      <td>1362.0</td>\n",
              "      <td>305.0</td>\n",
              "      <td>95</td>\n",
              "      <td>9964</td>\n",
              "    </tr>\n",
              "    <tr>\n",
              "      <th>2</th>\n",
              "      <td>3</td>\n",
              "      <td>2022-01-02</td>\n",
              "      <td>2022-03-11</td>\n",
              "      <td>Баннерная</td>\n",
              "      <td>Instagram</td>\n",
              "      <td>2020</td>\n",
              "      <td>Екатеринбург</td>\n",
              "      <td>2420.0</td>\n",
              "      <td>541.0</td>\n",
              "      <td>87</td>\n",
              "      <td>14792</td>\n",
              "    </tr>\n",
              "    <tr>\n",
              "      <th>3</th>\n",
              "      <td>4</td>\n",
              "      <td>2022-01-02</td>\n",
              "      <td>2022-06-20</td>\n",
              "      <td>Видеореклама</td>\n",
              "      <td>Google</td>\n",
              "      <td>18684</td>\n",
              "      <td>Москва</td>\n",
              "      <td>728.0</td>\n",
              "      <td>406.0</td>\n",
              "      <td>73</td>\n",
              "      <td>13824</td>\n",
              "    </tr>\n",
              "    <tr>\n",
              "      <th>4</th>\n",
              "      <td>8</td>\n",
              "      <td>2022-01-04</td>\n",
              "      <td>2022-12-06</td>\n",
              "      <td>Поисковая оптимизация</td>\n",
              "      <td>Вконтакте</td>\n",
              "      <td>47936</td>\n",
              "      <td>Екатеринбург</td>\n",
              "      <td>356.0</td>\n",
              "      <td>129.0</td>\n",
              "      <td>31</td>\n",
              "      <td>3908</td>\n",
              "    </tr>\n",
              "    <tr>\n",
              "      <th>...</th>\n",
              "      <td>...</td>\n",
              "      <td>...</td>\n",
              "      <td>...</td>\n",
              "      <td>...</td>\n",
              "      <td>...</td>\n",
              "      <td>...</td>\n",
              "      <td>...</td>\n",
              "      <td>...</td>\n",
              "      <td>...</td>\n",
              "      <td>...</td>\n",
              "      <td>...</td>\n",
              "    </tr>\n",
              "    <tr>\n",
              "      <th>1015</th>\n",
              "      <td>1240</td>\n",
              "      <td>2022-12-28</td>\n",
              "      <td>2022-12-29</td>\n",
              "      <td>Видеореклама</td>\n",
              "      <td>Instagram</td>\n",
              "      <td>24525</td>\n",
              "      <td>Калуга</td>\n",
              "      <td>5610.0</td>\n",
              "      <td>732.0</td>\n",
              "      <td>93</td>\n",
              "      <td>12208</td>\n",
              "    </tr>\n",
              "    <tr>\n",
              "      <th>1016</th>\n",
              "      <td>1241</td>\n",
              "      <td>2022-12-28</td>\n",
              "      <td>2022-12-29</td>\n",
              "      <td>Нативная интеграция</td>\n",
              "      <td>Telegram</td>\n",
              "      <td>2904</td>\n",
              "      <td>Екатеринбург</td>\n",
              "      <td>937.0</td>\n",
              "      <td>199.0</td>\n",
              "      <td>44</td>\n",
              "      <td>2839</td>\n",
              "    </tr>\n",
              "    <tr>\n",
              "      <th>1017</th>\n",
              "      <td>1243</td>\n",
              "      <td>2022-12-28</td>\n",
              "      <td>2022-12-30</td>\n",
              "      <td>Нативная интеграция</td>\n",
              "      <td>Telegram</td>\n",
              "      <td>27913</td>\n",
              "      <td>Казань</td>\n",
              "      <td>9309.0</td>\n",
              "      <td>1280.0</td>\n",
              "      <td>128</td>\n",
              "      <td>30575</td>\n",
              "    </tr>\n",
              "    <tr>\n",
              "      <th>1018</th>\n",
              "      <td>1245</td>\n",
              "      <td>2022-12-29</td>\n",
              "      <td>2022-12-29</td>\n",
              "      <td>Поисковая оптимизация</td>\n",
              "      <td>Google</td>\n",
              "      <td>23648</td>\n",
              "      <td>Новосибирск</td>\n",
              "      <td>854.0</td>\n",
              "      <td>252.0</td>\n",
              "      <td>71</td>\n",
              "      <td>17632</td>\n",
              "    </tr>\n",
              "    <tr>\n",
              "      <th>1019</th>\n",
              "      <td>1246</td>\n",
              "      <td>2022-12-30</td>\n",
              "      <td>2022-12-30</td>\n",
              "      <td>Баннерная</td>\n",
              "      <td>Telegram</td>\n",
              "      <td>1909</td>\n",
              "      <td>Екатеринбург</td>\n",
              "      <td>848.0</td>\n",
              "      <td>228.0</td>\n",
              "      <td>31</td>\n",
              "      <td>4298</td>\n",
              "    </tr>\n",
              "  </tbody>\n",
              "</table>\n",
              "<p>1020 rows × 11 columns</p>\n",
              "</div>\n",
              "    <div class=\"colab-df-buttons\">\n",
              "\n",
              "  <div class=\"colab-df-container\">\n",
              "    <button class=\"colab-df-convert\" onclick=\"convertToInteractive('df-7f9d1aac-32fa-4098-bb80-6c87c1b306ee')\"\n",
              "            title=\"Convert this dataframe to an interactive table.\"\n",
              "            style=\"display:none;\">\n",
              "\n",
              "  <svg xmlns=\"http://www.w3.org/2000/svg\" height=\"24px\" viewBox=\"0 -960 960 960\">\n",
              "    <path d=\"M120-120v-720h720v720H120Zm60-500h600v-160H180v160Zm220 220h160v-160H400v160Zm0 220h160v-160H400v160ZM180-400h160v-160H180v160Zm440 0h160v-160H620v160ZM180-180h160v-160H180v160Zm440 0h160v-160H620v160Z\"/>\n",
              "  </svg>\n",
              "    </button>\n",
              "\n",
              "  <style>\n",
              "    .colab-df-container {\n",
              "      display:flex;\n",
              "      gap: 12px;\n",
              "    }\n",
              "\n",
              "    .colab-df-convert {\n",
              "      background-color: #E8F0FE;\n",
              "      border: none;\n",
              "      border-radius: 50%;\n",
              "      cursor: pointer;\n",
              "      display: none;\n",
              "      fill: #1967D2;\n",
              "      height: 32px;\n",
              "      padding: 0 0 0 0;\n",
              "      width: 32px;\n",
              "    }\n",
              "\n",
              "    .colab-df-convert:hover {\n",
              "      background-color: #E2EBFA;\n",
              "      box-shadow: 0px 1px 2px rgba(60, 64, 67, 0.3), 0px 1px 3px 1px rgba(60, 64, 67, 0.15);\n",
              "      fill: #174EA6;\n",
              "    }\n",
              "\n",
              "    .colab-df-buttons div {\n",
              "      margin-bottom: 4px;\n",
              "    }\n",
              "\n",
              "    [theme=dark] .colab-df-convert {\n",
              "      background-color: #3B4455;\n",
              "      fill: #D2E3FC;\n",
              "    }\n",
              "\n",
              "    [theme=dark] .colab-df-convert:hover {\n",
              "      background-color: #434B5C;\n",
              "      box-shadow: 0px 1px 3px 1px rgba(0, 0, 0, 0.15);\n",
              "      filter: drop-shadow(0px 1px 2px rgba(0, 0, 0, 0.3));\n",
              "      fill: #FFFFFF;\n",
              "    }\n",
              "  </style>\n",
              "\n",
              "    <script>\n",
              "      const buttonEl =\n",
              "        document.querySelector('#df-7f9d1aac-32fa-4098-bb80-6c87c1b306ee button.colab-df-convert');\n",
              "      buttonEl.style.display =\n",
              "        google.colab.kernel.accessAllowed ? 'block' : 'none';\n",
              "\n",
              "      async function convertToInteractive(key) {\n",
              "        const element = document.querySelector('#df-7f9d1aac-32fa-4098-bb80-6c87c1b306ee');\n",
              "        const dataTable =\n",
              "          await google.colab.kernel.invokeFunction('convertToInteractive',\n",
              "                                                    [key], {});\n",
              "        if (!dataTable) return;\n",
              "\n",
              "        const docLinkHtml = 'Like what you see? Visit the ' +\n",
              "          '<a target=\"_blank\" href=https://colab.research.google.com/notebooks/data_table.ipynb>data table notebook</a>'\n",
              "          + ' to learn more about interactive tables.';\n",
              "        element.innerHTML = '';\n",
              "        dataTable['output_type'] = 'display_data';\n",
              "        await google.colab.output.renderOutput(dataTable, element);\n",
              "        const docLink = document.createElement('div');\n",
              "        docLink.innerHTML = docLinkHtml;\n",
              "        element.appendChild(docLink);\n",
              "      }\n",
              "    </script>\n",
              "  </div>\n",
              "\n",
              "\n",
              "    <div id=\"df-0139dbe8-f33d-4a80-8d15-8c9302642806\">\n",
              "      <button class=\"colab-df-quickchart\" onclick=\"quickchart('df-0139dbe8-f33d-4a80-8d15-8c9302642806')\"\n",
              "                title=\"Suggest charts\"\n",
              "                style=\"display:none;\">\n",
              "\n",
              "<svg xmlns=\"http://www.w3.org/2000/svg\" height=\"24px\"viewBox=\"0 0 24 24\"\n",
              "     width=\"24px\">\n",
              "    <g>\n",
              "        <path d=\"M19 3H5c-1.1 0-2 .9-2 2v14c0 1.1.9 2 2 2h14c1.1 0 2-.9 2-2V5c0-1.1-.9-2-2-2zM9 17H7v-7h2v7zm4 0h-2V7h2v10zm4 0h-2v-4h2v4z\"/>\n",
              "    </g>\n",
              "</svg>\n",
              "      </button>\n",
              "\n",
              "<style>\n",
              "  .colab-df-quickchart {\n",
              "      --bg-color: #E8F0FE;\n",
              "      --fill-color: #1967D2;\n",
              "      --hover-bg-color: #E2EBFA;\n",
              "      --hover-fill-color: #174EA6;\n",
              "      --disabled-fill-color: #AAA;\n",
              "      --disabled-bg-color: #DDD;\n",
              "  }\n",
              "\n",
              "  [theme=dark] .colab-df-quickchart {\n",
              "      --bg-color: #3B4455;\n",
              "      --fill-color: #D2E3FC;\n",
              "      --hover-bg-color: #434B5C;\n",
              "      --hover-fill-color: #FFFFFF;\n",
              "      --disabled-bg-color: #3B4455;\n",
              "      --disabled-fill-color: #666;\n",
              "  }\n",
              "\n",
              "  .colab-df-quickchart {\n",
              "    background-color: var(--bg-color);\n",
              "    border: none;\n",
              "    border-radius: 50%;\n",
              "    cursor: pointer;\n",
              "    display: none;\n",
              "    fill: var(--fill-color);\n",
              "    height: 32px;\n",
              "    padding: 0;\n",
              "    width: 32px;\n",
              "  }\n",
              "\n",
              "  .colab-df-quickchart:hover {\n",
              "    background-color: var(--hover-bg-color);\n",
              "    box-shadow: 0 1px 2px rgba(60, 64, 67, 0.3), 0 1px 3px 1px rgba(60, 64, 67, 0.15);\n",
              "    fill: var(--button-hover-fill-color);\n",
              "  }\n",
              "\n",
              "  .colab-df-quickchart-complete:disabled,\n",
              "  .colab-df-quickchart-complete:disabled:hover {\n",
              "    background-color: var(--disabled-bg-color);\n",
              "    fill: var(--disabled-fill-color);\n",
              "    box-shadow: none;\n",
              "  }\n",
              "\n",
              "  .colab-df-spinner {\n",
              "    border: 2px solid var(--fill-color);\n",
              "    border-color: transparent;\n",
              "    border-bottom-color: var(--fill-color);\n",
              "    animation:\n",
              "      spin 1s steps(1) infinite;\n",
              "  }\n",
              "\n",
              "  @keyframes spin {\n",
              "    0% {\n",
              "      border-color: transparent;\n",
              "      border-bottom-color: var(--fill-color);\n",
              "      border-left-color: var(--fill-color);\n",
              "    }\n",
              "    20% {\n",
              "      border-color: transparent;\n",
              "      border-left-color: var(--fill-color);\n",
              "      border-top-color: var(--fill-color);\n",
              "    }\n",
              "    30% {\n",
              "      border-color: transparent;\n",
              "      border-left-color: var(--fill-color);\n",
              "      border-top-color: var(--fill-color);\n",
              "      border-right-color: var(--fill-color);\n",
              "    }\n",
              "    40% {\n",
              "      border-color: transparent;\n",
              "      border-right-color: var(--fill-color);\n",
              "      border-top-color: var(--fill-color);\n",
              "    }\n",
              "    60% {\n",
              "      border-color: transparent;\n",
              "      border-right-color: var(--fill-color);\n",
              "    }\n",
              "    80% {\n",
              "      border-color: transparent;\n",
              "      border-right-color: var(--fill-color);\n",
              "      border-bottom-color: var(--fill-color);\n",
              "    }\n",
              "    90% {\n",
              "      border-color: transparent;\n",
              "      border-bottom-color: var(--fill-color);\n",
              "    }\n",
              "  }\n",
              "</style>\n",
              "\n",
              "      <script>\n",
              "        async function quickchart(key) {\n",
              "          const quickchartButtonEl =\n",
              "            document.querySelector('#' + key + ' button');\n",
              "          quickchartButtonEl.disabled = true;  // To prevent multiple clicks.\n",
              "          quickchartButtonEl.classList.add('colab-df-spinner');\n",
              "          try {\n",
              "            const charts = await google.colab.kernel.invokeFunction(\n",
              "                'suggestCharts', [key], {});\n",
              "          } catch (error) {\n",
              "            console.error('Error during call to suggestCharts:', error);\n",
              "          }\n",
              "          quickchartButtonEl.classList.remove('colab-df-spinner');\n",
              "          quickchartButtonEl.classList.add('colab-df-quickchart-complete');\n",
              "        }\n",
              "        (() => {\n",
              "          let quickchartButtonEl =\n",
              "            document.querySelector('#df-0139dbe8-f33d-4a80-8d15-8c9302642806 button');\n",
              "          quickchartButtonEl.style.display =\n",
              "            google.colab.kernel.accessAllowed ? 'block' : 'none';\n",
              "        })();\n",
              "      </script>\n",
              "    </div>\n",
              "    </div>\n",
              "  </div>\n"
            ],
            "application/vnd.google.colaboratory.intrinsic+json": {
              "type": "dataframe",
              "variable_name": "df",
              "summary": "{\n  \"name\": \"df\",\n  \"rows\": 1020,\n  \"fields\": [\n    {\n      \"column\": \"ID \\u041a\\u0430\\u043c\\u043f\\u0430\\u043d\\u0438\\u0438\",\n      \"properties\": {\n        \"dtype\": \"number\",\n        \"std\": 357,\n        \"min\": 1,\n        \"max\": 1246,\n        \"num_unique_values\": 1020,\n        \"samples\": [\n          632,\n          731,\n          635\n        ],\n        \"semantic_type\": \"\",\n        \"description\": \"\"\n      }\n    },\n    {\n      \"column\": \"\\u041d\\u0430\\u0447\\u0430\\u043b\\u044c\\u043d\\u0430\\u044f \\u0434\\u0430\\u0442\\u0430\",\n      \"properties\": {\n        \"dtype\": \"object\",\n        \"num_unique_values\": 346,\n        \"samples\": [\n          \"2022-04-22\",\n          \"2022-06-14\",\n          \"2022-10-21\"\n        ],\n        \"semantic_type\": \"\",\n        \"description\": \"\"\n      }\n    },\n    {\n      \"column\": \"\\u041a\\u043e\\u043d\\u0435\\u0447\\u043d\\u0430\\u044f \\u0434\\u0430\\u0442\\u0430\",\n      \"properties\": {\n        \"dtype\": \"object\",\n        \"num_unique_values\": 257,\n        \"samples\": [\n          \"2022-12-24\",\n          \"2022-05-29\",\n          \"2022-09-28\"\n        ],\n        \"semantic_type\": \"\",\n        \"description\": \"\"\n      }\n    },\n    {\n      \"column\": \"\\u0422\\u0438\\u043f \\u043a\\u0430\\u043c\\u043f\\u0430\\u043d\\u0438\\u0438\",\n      \"properties\": {\n        \"dtype\": \"category\",\n        \"num_unique_values\": 6,\n        \"samples\": [\n          \"\\u041a\\u043e\\u043d\\u0442\\u0435\\u043a\\u0441\\u0442\\u043d\\u0430\\u044f\",\n          \"\\u041f\\u043e\\u0438\\u0441\\u043a\\u043e\\u0432\\u0430\\u044f \\u043e\\u043f\\u0442\\u0438\\u043c\\u0438\\u0437\\u0430\\u0446\\u0438\\u044f\",\n          \"\\u041d\\u0430\\u0442\\u0438\\u0432\\u043d\\u0430\\u044f \\u0438\\u043d\\u0442\\u0435\\u0433\\u0440\\u0430\\u0446\\u0438\\u044f\"\n        ],\n        \"semantic_type\": \"\",\n        \"description\": \"\"\n      }\n    },\n    {\n      \"column\": \"\\u041f\\u043b\\u0430\\u0442\\u0444\\u043e\\u0440\\u043c\\u0430\",\n      \"properties\": {\n        \"dtype\": \"category\",\n        \"num_unique_values\": 5,\n        \"samples\": [\n          \"\\u0412\\u043a\\u043e\\u043d\\u0442\\u0430\\u043a\\u0442\\u0435\",\n          \"\\u042f\\u043d\\u0434\\u0435\\u043a\\u0441\",\n          \"Instagram\"\n        ],\n        \"semantic_type\": \"\",\n        \"description\": \"\"\n      }\n    },\n    {\n      \"column\": \"\\u0411\\u044e\\u0434\\u0436\\u0435\\u0442\",\n      \"properties\": {\n        \"dtype\": \"number\",\n        \"std\": 14239,\n        \"min\": 1035,\n        \"max\": 49947,\n        \"num_unique_values\": 1008,\n        \"samples\": [\n          37865,\n          10554,\n          43427\n        ],\n        \"semantic_type\": \"\",\n        \"description\": \"\"\n      }\n    },\n    {\n      \"column\": \"\\u0413\\u043e\\u0440\\u043e\\u0434\",\n      \"properties\": {\n        \"dtype\": \"category\",\n        \"num_unique_values\": 8,\n        \"samples\": [\n          \"\\u041c\\u043e\\u0441\\u043a\\u0432\\u0430\",\n          \"\\u041a\\u0440\\u0430\\u0441\\u043d\\u043e\\u0434\\u0430\\u0440\",\n          \"\\u041a\\u0430\\u0437\\u0430\\u043d\\u044c\"\n        ],\n        \"semantic_type\": \"\",\n        \"description\": \"\"\n      }\n    },\n    {\n      \"column\": \"\\u041f\\u043e\\u043a\\u0430\\u0437\\u044b\",\n      \"properties\": {\n        \"dtype\": \"number\",\n        \"std\": 2987.7222111216347,\n        \"min\": 43.0,\n        \"max\": 18257.0,\n        \"num_unique_values\": 944,\n        \"samples\": [\n          977.0,\n          1284.0,\n          2997.0\n        ],\n        \"semantic_type\": \"\",\n        \"description\": \"\"\n      }\n    },\n    {\n      \"column\": \"\\u041a\\u043b\\u0438\\u043a\\u0438\",\n      \"properties\": {\n        \"dtype\": \"number\",\n        \"std\": 413.27878657633596,\n        \"min\": 8.0,\n        \"max\": 1947.0,\n        \"num_unique_values\": 710,\n        \"samples\": [\n          83.0,\n          462.0,\n          233.0\n        ],\n        \"semantic_type\": \"\",\n        \"description\": \"\"\n      }\n    },\n    {\n      \"column\": \"\\u041a\\u043e\\u043d\\u0432\\u0435\\u0440\\u0441\\u0438\\u044f\",\n      \"properties\": {\n        \"dtype\": \"number\",\n        \"std\": 55,\n        \"min\": 5,\n        \"max\": 199,\n        \"num_unique_values\": 195,\n        \"samples\": [\n          67,\n          139,\n          89\n        ],\n        \"semantic_type\": \"\",\n        \"description\": \"\"\n      }\n    },\n    {\n      \"column\": \"\\u0414\\u043e\\u0445\\u043e\\u0434\",\n      \"properties\": {\n        \"dtype\": \"number\",\n        \"std\": 10780,\n        \"min\": 284,\n        \"max\": 48465,\n        \"num_unique_values\": 999,\n        \"samples\": [\n          4930,\n          6720,\n          16454\n        ],\n        \"semantic_type\": \"\",\n        \"description\": \"\"\n      }\n    }\n  ]\n}"
            }
          },
          "metadata": {},
          "execution_count": 2
        }
      ]
    },
    {
      "cell_type": "markdown",
      "source": [
        "### **Найдите самую эффективную платформу по средним значениям конверсий**\n",
        "\n",
        "Cохраните результат в переменную `most_effective_platform`"
      ],
      "metadata": {
        "id": "s2g2hxfMzqLo"
      }
    },
    {
      "cell_type": "code",
      "source": [
        "# Ваше решение\n",
        "import csv\n",
        "res = dict()\n",
        "with open('campaign_data.csv', 'r', encoding = 'utf-8') as f:\n",
        "    datad = csv.DictReader(f, fieldnames=None, delimiter=',')\n",
        "    for k in datad:\n",
        "        res[k['Платформа']] = [res.get(k['Платформа'], [0, 0])[0] + int(k['Конверсия']) , res.get(k['Платформа'], [0, 0])[1] + 1]\n",
        "    conv = dict([(k, v[0]/v[1]) for k, v in res.items()])\n",
        "    most_effective_platform = max(conv, key=conv.get)\n",
        "\n",
        "most_effective_platform"
      ],
      "metadata": {
        "id": "u5l9mm-vzpJ8",
        "colab": {
          "base_uri": "https://localhost:8080/",
          "height": 36
        },
        "outputId": "87ee9cf0-0834-463d-8314-ccc37b4d9990"
      },
      "execution_count": 9,
      "outputs": [
        {
          "output_type": "execute_result",
          "data": {
            "text/plain": [
              "'Instagram'"
            ],
            "application/vnd.google.colaboratory.intrinsic+json": {
              "type": "string"
            }
          },
          "metadata": {},
          "execution_count": 9
        }
      ]
    },
    {
      "cell_type": "code",
      "source": [
        "#@title ✏️ Проверка: чтобы проверить свое решение запустите код в этой ячейке\n",
        "# Открываем файл с правильными ответами\n",
        "with open('marketing_campaigns.txt', 'r') as f:\n",
        "    answers = f.read().split('\\n')\n",
        "\n",
        "correct_answer = answers[0]\n",
        "\n",
        "try:\n",
        "    assert most_effective_platform == correct_answer\n",
        "except AssertionError:\n",
        "    print('Ответы не совпадают')\n",
        "else:\n",
        "    print('Поздравляем, Вы справились!')"
      ],
      "metadata": {
        "colab": {
          "base_uri": "https://localhost:8080/"
        },
        "cellView": "form",
        "id": "YGydKAis0Ae9",
        "outputId": "c4941adc-7236-4c0c-d592-fdd77e0f2dc1"
      },
      "execution_count": 10,
      "outputs": [
        {
          "output_type": "stream",
          "name": "stdout",
          "text": [
            "Поздравляем, Вы справились!\n"
          ]
        }
      ]
    },
    {
      "cell_type": "markdown",
      "source": [
        "### **Найдите самый успешный тип рекламной кампании по средним значениям конверсий**\n",
        "\n",
        "Сохраните результат в переменную `most_successful_campaign_type`"
      ],
      "metadata": {
        "id": "TbkdEVLI0Cor"
      }
    },
    {
      "cell_type": "code",
      "source": [
        "# Ваше решение\n",
        "import csv\n",
        "\n",
        "res = dict()\n",
        "with open('campaign_data.csv', 'r', encoding = 'utf-8') as f:\n",
        "    datad = csv.DictReader(f, fieldnames=None, delimiter=',')\n",
        "    for k in datad:\n",
        "        res[k['Тип кампании']] = [res.get(k['Тип кампании'], [0, 0])[0] + int(k['Конверсия']) , res.get(k['Тип кампании'], [0, 0])[1] + 1]\n",
        "    conv = dict([(k, v[0]/v[1]) for k, v in res.items()])\n",
        "    most_successful_campaign_type = max(conv, key=conv.get)\n",
        "\n",
        "most_successful_campaign_type"
      ],
      "metadata": {
        "id": "keCBmUDJ0Hho",
        "colab": {
          "base_uri": "https://localhost:8080/",
          "height": 36
        },
        "outputId": "751cb88b-5305-4c5d-8f7f-beac6be58def"
      },
      "execution_count": 6,
      "outputs": [
        {
          "output_type": "execute_result",
          "data": {
            "text/plain": [
              "'Контекстная'"
            ],
            "application/vnd.google.colaboratory.intrinsic+json": {
              "type": "string"
            }
          },
          "metadata": {},
          "execution_count": 6
        }
      ]
    },
    {
      "cell_type": "code",
      "source": [
        "#@title ✏️ Проверка: чтобы проверить свое решение запустите код в этой ячейке\n",
        "correct_answer = answers[1]\n",
        "\n",
        "try:\n",
        "    assert most_successful_campaign_type == correct_answer\n",
        "except AssertionError:\n",
        "    print('Ответы не совпадают')\n",
        "else:\n",
        "    print('Поздравляем, Вы справились!')"
      ],
      "metadata": {
        "cellView": "form",
        "id": "fTwUwQZ40JCl",
        "colab": {
          "base_uri": "https://localhost:8080/"
        },
        "outputId": "c3bcea9e-c574-436a-9ed9-c2bbf4a2028b"
      },
      "execution_count": 7,
      "outputs": [
        {
          "output_type": "stream",
          "name": "stdout",
          "text": [
            "Поздравляем, Вы справились!\n"
          ]
        }
      ]
    },
    {
      "cell_type": "markdown",
      "source": [
        "### **Найдите самый успешный город проведения кампании по средним значениям конверсий**\n",
        "\n",
        "Сохраните результат в переменную `most_successful_city`"
      ],
      "metadata": {
        "id": "wxkhEVmF0PAo"
      }
    },
    {
      "cell_type": "code",
      "source": [
        "# Ваше решение\n",
        "import csv\n",
        "\n",
        "res = dict()\n",
        "with open('campaign_data.csv', 'r', encoding = 'utf-8') as f:\n",
        "    datad = csv.DictReader(f, fieldnames=None, delimiter=',')\n",
        "    for k in datad:\n",
        "        res[k['Город']] = [res.get(k['Город'], [0, 0])[0] + int(k['Конверсия']) , res.get(k['Город'], [0, 0])[1] + 1]\n",
        "    conv = dict([(k, v[0]/v[1]) for k, v in res.items()])\n",
        "    most_successful_city = max(conv, key=conv.get)\n",
        "\n",
        "\n",
        "most_successful_city"
      ],
      "metadata": {
        "id": "KS17l5Ux0UD3",
        "colab": {
          "base_uri": "https://localhost:8080/",
          "height": 36
        },
        "outputId": "9ac696a0-4931-4249-bc12-c3131a41b08e"
      },
      "execution_count": 8,
      "outputs": [
        {
          "output_type": "execute_result",
          "data": {
            "text/plain": [
              "'Новосибирск'"
            ],
            "application/vnd.google.colaboratory.intrinsic+json": {
              "type": "string"
            }
          },
          "metadata": {},
          "execution_count": 8
        }
      ]
    },
    {
      "cell_type": "code",
      "source": [
        "#@title ✏️ Проверка: чтобы проверить свое решение запустите код в этой ячейке\n",
        "correct_answer = answers[2]\n",
        "\n",
        "try:\n",
        "    assert most_successful_city == correct_answer\n",
        "except AssertionError:\n",
        "    print('Ответы не совпадают')\n",
        "else:\n",
        "    print('Поздравляем, Вы справились!')"
      ],
      "metadata": {
        "id": "k7s0V8hF0Vmx",
        "colab": {
          "base_uri": "https://localhost:8080/"
        },
        "outputId": "85aad5b0-93b2-4d41-87dc-f18270287bd3",
        "cellView": "form"
      },
      "execution_count": 9,
      "outputs": [
        {
          "output_type": "stream",
          "name": "stdout",
          "text": [
            "Поздравляем, Вы справились!\n"
          ]
        }
      ]
    },
    {
      "cell_type": "markdown",
      "source": [
        "### **Посчитайте долю затрат на рекламные кампании каждой платформы и каждого города**\n",
        "\n",
        "Сохраните результат в файл `platform_city_results.txt`\n",
        "\n",
        "Результат должен иметь такой же порядок групп, что и изначальный файл. А города внутри платформ должны быть отсортированы по убыванию доли затрат, а доля затрат должны быть округлена до 2 знаков после запятой."
      ],
      "metadata": {
        "id": "OrwoZ-wR0jJq"
      }
    },
    {
      "cell_type": "markdown",
      "source": [
        "Результат должен выглядеть примерно так:\n",
        "\n",
        "```\n",
        "Для группы Telegram:\n",
        "- Город: Москва, доля затрат на рекламу: 16.46%\n",
        "- Город: Калуга, доля затрат на рекламу: 16.2%\n",
        "- Город: Казань, доля затрат на рекламу: 14.57%\n",
        "- ...\n",
        "Для группы Вконтакте:\n",
        "- Город: Екатеринбург, доля затрат на рекламу: 17.43%\n",
        "- Город: Новосибирск, доля затрат на рекламу: 14.86%\n",
        "- Город: Санкт-Петербург, доля затрат на рекламу: 14.13%\n",
        "...\n",
        "```"
      ],
      "metadata": {
        "id": "WR6M7ooveTp-"
      }
    },
    {
      "cell_type": "code",
      "source": [
        "# Ваше решение\n",
        "import csv\n",
        "res = dict()\n",
        "pltf = {}\n",
        "with open('campaign_data.csv', 'r', encoding = 'utf-8') as f:\n",
        "    datad = csv.DictReader(f, fieldnames=None, delimiter=',')\n",
        "    for k in datad:\n",
        "      res.setdefault(k['Платформа'], {})\n",
        "      res[k['Платформа']].setdefault(k['Город'], []).append(float(k['Бюджет']))\n",
        "      pltf.setdefault(k['Платформа'], []).append(float(k['Бюджет']))\n",
        "    for k, v in res.items():\n",
        "      for kk, v in v.items():\n",
        "        res[k][kk] = round(100.0*sum(v)/sum(pltf[k]),2)\n",
        "      res[k] = dict(sorted(res[k].items(), key = lambda x: x[1], reverse = True))\n",
        "\n",
        "with open('platform_city_results.txt', 'w', encoding='utf-8') as w:\n",
        "    for plf, vl in res.items():\n",
        "        w.write(f'Для группы {plf}:\\n')\n",
        "        for ct, v in vl.items():\n",
        "            w.write(f'- Город: {ct}, доля затрат на рекламу: {v}%\\n')\n"
      ],
      "metadata": {
        "id": "hKN7vidq0mJ3"
      },
      "execution_count": 2,
      "outputs": []
    },
    {
      "cell_type": "code",
      "source": [
        "#@title ✏️ Проверка: чтобы проверить свое решение запустите код в этой ячейке\n",
        "\n",
        "with open('platform_city_results.txt', 'r') as file:\n",
        "    user_answer = file.readlines()\n",
        "\n",
        "with open('cor_platform.txt', 'r') as file:\n",
        "    correct_answer = file.readlines()\n",
        "\n",
        "try:\n",
        "    assert user_answer == correct_answer, 'Ответы не совпадают'\n",
        "except Exception as err:\n",
        "    raise AssertionError(f'При проверке возникла ошибка {repr(err)}')\n",
        "else:\n",
        "    print('Поздравляем, Вы справились и успешно прошли все проверки!!')"
      ],
      "metadata": {
        "cellView": "form",
        "id": "14KnR1gD0ou9",
        "colab": {
          "base_uri": "https://localhost:8080/"
        },
        "outputId": "fc947ecd-76ee-4fb6-bfbf-d6b36c718313"
      },
      "execution_count": 3,
      "outputs": [
        {
          "output_type": "stream",
          "name": "stdout",
          "text": [
            "Поздравляем, Вы справились и успешно прошли все проверки!!\n"
          ]
        }
      ]
    },
    {
      "cell_type": "markdown",
      "source": [
        "### **Напишите функцию, которая возвращает средний бюджет всех кампаний, запущенных на определенной платформе**\n",
        "\n",
        "Функция `calculate_average_budget` должна принимать путь к файлу и название плафтормы и возвращать число - средний бюджет всех кампаний, запущенных на данной платформе, округленный до двух знаков после запятой."
      ],
      "metadata": {
        "id": "QuO3ZwRI5mdH"
      }
    },
    {
      "cell_type": "code",
      "source": [
        "import csv\n",
        "def calculate_average_budget(file, platform):\n",
        "    res = dict()\n",
        "    with open(file, 'r', encoding = 'utf-8') as f:\n",
        "        datad = csv.DictReader(f, fieldnames=None, delimiter=',')\n",
        "        for k in datad:\n",
        "            res.setdefault(k['Платформа'], []).append(float(k['Бюджет']))\n",
        "        for k, v in res.items():\n",
        "            res[k] = sum(v) / len(v)\n",
        "    return round(res[platform], 2)\n",
        "\n",
        "calculate_average_budget('campaign_data.csv', 'Google')"
      ],
      "metadata": {
        "id": "HxGWkaSp5kpo",
        "colab": {
          "base_uri": "https://localhost:8080/"
        },
        "outputId": "4c588b60-0ea1-4150-e40e-c65fff865e72"
      },
      "execution_count": 4,
      "outputs": [
        {
          "output_type": "execute_result",
          "data": {
            "text/plain": [
              "25123.22"
            ]
          },
          "metadata": {},
          "execution_count": 4
        }
      ]
    },
    {
      "cell_type": "code",
      "source": [
        "#@title ✏️ Проверка: чтобы проверить свое решение запустите код в этой ячейке\n",
        "correct_answer = answers[3]\n",
        "user_answer = str(calculate_average_budget('campaign_data.csv', 'Google'))\n",
        "\n",
        "try:\n",
        "    assert user_answer == correct_answer\n",
        "except AssertionError:\n",
        "    print('Ответы не совпадают')\n",
        "else:\n",
        "    print('Поздравляем, Вы справились!')"
      ],
      "metadata": {
        "id": "dpK4clbe5xiH",
        "colab": {
          "base_uri": "https://localhost:8080/"
        },
        "outputId": "8cc57a43-b868-442b-9fc0-e34195cd20e2",
        "cellView": "form"
      },
      "execution_count": 9,
      "outputs": [
        {
          "output_type": "stream",
          "name": "stdout",
          "text": [
            "Поздравляем, Вы справились!\n"
          ]
        }
      ]
    },
    {
      "cell_type": "code",
      "source": [
        "#@title ✏️ Еще одна проверка: чтобы проверить свое решение запустите код в этой ячейке\n",
        "correct_answer = answers[4]\n",
        "user_answer = str(calculate_average_budget('campaign_data.csv', 'Вконтакте'))\n",
        "\n",
        "try:\n",
        "    assert user_answer == correct_answer\n",
        "except AssertionError:\n",
        "    print('Ответы не совпадают')\n",
        "else:\n",
        "    print('Поздравляем, Вы справились!')"
      ],
      "metadata": {
        "colab": {
          "base_uri": "https://localhost:8080/"
        },
        "cellView": "form",
        "id": "JZJiVbM-yiQe",
        "outputId": "810e8ddb-0251-45af-c0ee-967e53aab90b"
      },
      "execution_count": 10,
      "outputs": [
        {
          "output_type": "stream",
          "name": "stdout",
          "text": [
            "Поздравляем, Вы справились!\n"
          ]
        }
      ]
    },
    {
      "cell_type": "markdown",
      "source": [
        "### **Напишите генератор, который будет генерировать даты, в которые НЕ запускались кампании**\n",
        "\n",
        "Функция `get_missing_campaign_dates` должна принимать путь к файлу и генерировать построчно даты, отсортированные по возрастанию, в которые не запускались кампании, в формате:\n",
        "\n",
        "```\n",
        "2022-02-29\n",
        "2022-03-28\n",
        "2022-03-29\n",
        "2022-05-30\n",
        "2022-06-13\n",
        "2022-06-27\n",
        "...\n",
        "```"
      ],
      "metadata": {
        "id": "QxiawT4of4Xj"
      }
    },
    {
      "cell_type": "code",
      "source": [
        "import csv\n",
        "import datetime\n",
        "def get_missing_campaign_dates(file):\n",
        "    with open(file, 'r', encoding = 'utf-8') as f:\n",
        "      datad = csv.DictReader(f, fieldnames=None, delimiter=',')\n",
        "      dt_list = list({datetime.date.fromisoformat(k['Начальная дата']) for k in datad})\n",
        "      dt_start = min(dt_list)\n",
        "      dt_stop =  max(dt_list)\n",
        "      full_dt_list = {dt_start + datetime.timedelta(days=x) for x in range((dt_stop - dt_start).days +1)}\n",
        "      excl_list = sorted(list(full_dt_list.difference(set(dt_list))))\n",
        "      for i in excl_list:\n",
        "        yield i #datetime.datetime.strftime(i, '%Y-%m-%d')\n",
        "\n",
        "\n",
        "get_missing_campaign_dates('campaign_data.csv')"
      ],
      "metadata": {
        "id": "urEWcCuk522y",
        "colab": {
          "base_uri": "https://localhost:8080/"
        },
        "outputId": "a21b3966-a40d-4c55-9337-ad477f3bb5e9"
      },
      "execution_count": 6,
      "outputs": [
        {
          "output_type": "execute_result",
          "data": {
            "text/plain": [
              "<generator object get_missing_campaign_dates at 0x7d7dc6683600>"
            ]
          },
          "metadata": {},
          "execution_count": 6
        }
      ]
    },
    {
      "cell_type": "code",
      "source": [
        "#@title ✏️ Проверка: чтобы проверить свое решение запустите код в этой ячейке\n",
        "from datetime import date\n",
        "\n",
        "correct_answer = answers[5]\n",
        "\n",
        "missing_dates = get_missing_campaign_dates('campaign_data.csv')\n",
        "user_answer = []\n",
        "for date in missing_dates:\n",
        "    a = date.strftime('%Y-%m-%d')\n",
        "    user_answer.append(a)\n",
        "\n",
        "try:\n",
        "    assert str(user_answer) == correct_answer\n",
        "except AssertionError:\n",
        "    print('Ответы не совпадают')\n",
        "else:\n",
        "    print('Поздравляем, Вы справились!')"
      ],
      "metadata": {
        "id": "xziXbjnJ549b",
        "colab": {
          "base_uri": "https://localhost:8080/"
        },
        "outputId": "b4c9dcde-2e39-42ce-8f88-812c96151e42",
        "cellView": "form"
      },
      "execution_count": 7,
      "outputs": [
        {
          "output_type": "stream",
          "name": "stdout",
          "text": [
            "Поздравляем, Вы справились!\n"
          ]
        }
      ]
    },
    {
      "cell_type": "markdown",
      "source": [
        "### **Напишите функцию, которая будет принимать на вход путь к файлу и возвращать сгруппированные данные по городам, содержащие суммарный бюджет и количество кликов**\n",
        "\n",
        "Функция `group_campaign_data` должна возвращать список словарей, отсортированный по городам, в формате:\n",
        "\n",
        "```python\n",
        "[{'Город': 'Нижний Новгород',\n",
        "  'Количество кликов': 616.0,\n",
        "  'Суммарный бюджет': 27585},\n",
        " {'Город': 'Новосибирск',\n",
        "  'Количество кликов': 733.0,\n",
        "  'Суммарный бюджет': 33001},\n",
        "  ...]\n",
        "```"
      ],
      "metadata": {
        "id": "6wxnUGpkhktX"
      }
    },
    {
      "cell_type": "code",
      "source": [
        "\n",
        "import csv\n",
        "\n",
        "def group_campaign_data(file):\n",
        "    city_list = []\n",
        "    res = {}\n",
        "    with open(file, 'r', encoding = 'utf-8') as f:\n",
        "        datad = csv.DictReader(f, fieldnames=None, delimiter=',')\n",
        "        for k in datad:\n",
        "            res[k['Город']] = [res.get(k['Город'], [0, 0])[0] + float(k['Клики']) , res.get(k['Город'], [0, 0])[1] + int(k['Бюджет'])]\n",
        "        res = (sorted(res.items(), key = lambda x: x[0] ))\n",
        "        for k in res:\n",
        "            city_list.append(  {'Город':k[0], 'Количество кликов': k[1][0], 'Суммарный бюджет':  k[1][1]})\n",
        "        return city_list\n",
        "\n",
        "group_campaign_data('campaign_data.csv')"
      ],
      "metadata": {
        "id": "hv7Nz3TN59Ds",
        "colab": {
          "base_uri": "https://localhost:8080/"
        },
        "outputId": "39402b1c-65af-4e07-e4b3-f1acd8dbb032"
      },
      "execution_count": 15,
      "outputs": [
        {
          "output_type": "execute_result",
          "data": {
            "text/plain": [
              "[{'Город': 'Екатеринбург',\n",
              "  'Количество кликов': 82104.0,\n",
              "  'Суммарный бюджет': 3742631},\n",
              " {'Город': 'Казань',\n",
              "  'Количество кликов': 68353.0,\n",
              "  'Суммарный бюджет': 3138271},\n",
              " {'Город': 'Калуга',\n",
              "  'Количество кликов': 72801.0,\n",
              "  'Суммарный бюджет': 3434585},\n",
              " {'Город': 'Краснодар',\n",
              "  'Количество кликов': 63965.0,\n",
              "  'Суммарный бюджет': 3165896},\n",
              " {'Город': 'Москва',\n",
              "  'Количество кликов': 69939.0,\n",
              "  'Суммарный бюджет': 3003448},\n",
              " {'Город': 'Нижний Новгород',\n",
              "  'Количество кликов': 65416.0,\n",
              "  'Суммарный бюджет': 2730585},\n",
              " {'Город': 'Новосибирск',\n",
              "  'Количество кликов': 73303.0,\n",
              "  'Суммарный бюджет': 3363001},\n",
              " {'Город': 'Санкт-Петербург',\n",
              "  'Количество кликов': 66266.0,\n",
              "  'Суммарный бюджет': 3254148}]"
            ]
          },
          "metadata": {},
          "execution_count": 15
        }
      ]
    },
    {
      "cell_type": "code",
      "source": [
        "#@title ✏️ Проверка: чтобы проверить свое решение запустите код в этой ячейке\n",
        "correct_answer = answers[6]\n",
        "user_answer = str(group_campaign_data('campaign_data.csv'))\n",
        "\n",
        "try:\n",
        "    assert user_answer == correct_answer\n",
        "except AssertionError:\n",
        "    print('Ответы не совпадают')\n",
        "else:\n",
        "    print('Поздравляем, Вы справились!')"
      ],
      "metadata": {
        "id": "1csOLxor5_ox",
        "colab": {
          "base_uri": "https://localhost:8080/"
        },
        "outputId": "4faa0d71-31ab-480f-9af1-d70a6a30318d",
        "cellView": "form"
      },
      "execution_count": 16,
      "outputs": [
        {
          "output_type": "stream",
          "name": "stdout",
          "text": [
            "Поздравляем, Вы справились!\n"
          ]
        }
      ]
    },
    {
      "cell_type": "markdown",
      "source": [
        "### **Напишите генератор, который будет генерировать данные о кампаниях, запущенных в указанном городе и имеющих бюджет выше заданного значения**\n",
        "\n",
        "Функция `campaign_generator` должна принимать путь к файлу, город и бюджет и генерировать словари, отсортированные по возрастанию 'ID Кампании' в формате:\n",
        "\n",
        "```\n",
        "{'ID Кампании': '657', 'Тип': 'Контекстная', 'Платформа': 'Вконтакте', 'Доход': '10692'}\n",
        "{'ID Кампании': '674', 'Тип': 'Нативная интеграция', 'Платформа': 'Яндекс', 'Доход': '20766'}\n",
        "{'ID Кампании': '761', 'Тип': 'Соцсети', 'Платформа': 'Вконтакте', 'Доход': '15680'}\n",
        "```"
      ],
      "metadata": {
        "id": "eF6DMWtfifY7"
      }
    },
    {
      "cell_type": "code",
      "source": [
        "import csv\n",
        "def campaign_generator(file, city, budget):\n",
        "    with open(file, 'r', encoding='utf-8') as f:\n",
        "        datad = csv.DictReader(f, fieldnames=None, delimiter=',')\n",
        "        lst = [k for k in datad if int(k['Бюджет'])> budget and k['Город'] == city]\n",
        "        for k in lst:\n",
        "            yield({'ID Кампании': k['ID Кампании'], 'Тип': k['Тип кампании'], 'Платформа': k['Платформа'], 'Доход': k['Доход'] } )\n",
        "\n",
        "\n",
        "campaign_generator('campaign_data.csv', 'Москва', 25000)"
      ],
      "metadata": {
        "id": "mUDYPPqx6RPr",
        "colab": {
          "base_uri": "https://localhost:8080/"
        },
        "outputId": "7ce374be-b4c7-40e2-b9d0-a211443306b9"
      },
      "execution_count": 17,
      "outputs": [
        {
          "output_type": "execute_result",
          "data": {
            "text/plain": [
              "<generator object campaign_generator at 0x7d7dc672ef80>"
            ]
          },
          "metadata": {},
          "execution_count": 17
        }
      ]
    },
    {
      "cell_type": "code",
      "source": [
        "#@title ✏️ Проверка: чтобы проверить свое решение запустите код в этой ячейке\n",
        "correct_answer = answers[7]\n",
        "\n",
        "campaigns = campaign_generator('campaign_data.csv', 'Москва', 48000)\n",
        "user_answer = []\n",
        "for campaign in campaigns:\n",
        "    user_answer.append(campaign)\n",
        "\n",
        "try:\n",
        "    assert str(user_answer) == correct_answer\n",
        "except AssertionError:\n",
        "    print('Ответы не совпадают')\n",
        "else:\n",
        "    print('Поздравляем, Вы справились!')"
      ],
      "metadata": {
        "id": "TbmDR4NP66qm",
        "colab": {
          "base_uri": "https://localhost:8080/"
        },
        "outputId": "3875e012-fc51-41d3-b867-11972179f753",
        "cellView": "form"
      },
      "execution_count": 18,
      "outputs": [
        {
          "output_type": "stream",
          "name": "stdout",
          "text": [
            "Поздравляем, Вы справились!\n"
          ]
        }
      ]
    },
    {
      "cell_type": "code",
      "source": [
        "#@title ✏️ Еще одна проверка: чтобы проверить свое решение запустите код в этой ячейке\n",
        "correct_answer = answers[8]\n",
        "\n",
        "campaigns = campaign_generator('campaign_data.csv', 'Казань', 47000)\n",
        "user_answer = []\n",
        "for campaign in campaigns:\n",
        "    user_answer.append(campaign)\n",
        "\n",
        "try:\n",
        "    assert str(user_answer) == correct_answer\n",
        "except AssertionError:\n",
        "    print('Ответы не совпадают')\n",
        "else:\n",
        "    print('Поздравляем, Вы справились!')"
      ],
      "metadata": {
        "colab": {
          "base_uri": "https://localhost:8080/"
        },
        "cellView": "form",
        "id": "FFLSK9ti2FKu",
        "outputId": "2cd2843a-3bde-416e-82c4-ff4bb394c939"
      },
      "execution_count": 19,
      "outputs": [
        {
          "output_type": "stream",
          "name": "stdout",
          "text": [
            "Поздравляем, Вы справились!\n"
          ]
        }
      ]
    }
  ]
}