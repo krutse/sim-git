{
  "nbformat": 4,
  "nbformat_minor": 0,
  "metadata": {
    "colab": {
      "provenance": [],
      "include_colab_link": true
    },
    "kernelspec": {
      "name": "python3",
      "display_name": "Python 3"
    },
    "language_info": {
      "name": "python"
    }
  },
  "cells": [
    {
      "cell_type": "markdown",
      "metadata": {
        "id": "view-in-github",
        "colab_type": "text"
      },
      "source": [
        "<a href=\"https://colab.research.google.com/github/krutse/sim-git/blob/master/python/Ch18/krutse_%D0%9A%D0%B5%D0%B9%D1%81_%D0%BF%D0%BE%D0%BB%D1%8C%D0%B7%D0%BE%D0%B2%D0%B0%D1%82%D0%B5%D0%BB%D1%8C%D1%81%D0%BA%D0%B8%D0%B5_%D1%81%D0%B5%D1%81%D1%81%D0%B8%D0%B8.ipynb\" target=\"_parent\"><img src=\"https://colab.research.google.com/assets/colab-badge.svg\" alt=\"Open In Colab\"/></a>"
      ]
    },
    {
      "cell_type": "markdown",
      "source": [
        "## **3 кейс**\n",
        "\n",
        "**Пользовательские сессии**"
      ],
      "metadata": {
        "id": "XUqCUBW5fUST"
      }
    },
    {
      "cell_type": "markdown",
      "source": [
        "**Важно**\n",
        "\n",
        "Перед началом решения выполните следующую ячейку, чтобы загрузить необходимый для работы файл."
      ],
      "metadata": {
        "id": "OcK9kF9mfZIt"
      }
    },
    {
      "cell_type": "code",
      "execution_count": 1,
      "metadata": {
        "id": "KtNBw8nOfPsB",
        "colab": {
          "base_uri": "https://localhost:8080/"
        },
        "outputId": "2cb01cb2-3334-4ba9-a40e-a1b5a9daf8e9"
      },
      "outputs": [
        {
          "output_type": "stream",
          "name": "stdout",
          "text": [
            "--2025-08-05 06:25:32--  https://gist.github.com/Vs8th/9fcfa729905072c12b1e535c71565a68/raw/sessions.csv\n",
            "Resolving gist.github.com (gist.github.com)... 140.82.114.3\n",
            "Connecting to gist.github.com (gist.github.com)|140.82.114.3|:443... connected.\n",
            "HTTP request sent, awaiting response... 301 Moved Permanently\n",
            "Location: https://gist.githubusercontent.com/Vs8th/9fcfa729905072c12b1e535c71565a68/raw/sessions.csv [following]\n",
            "--2025-08-05 06:25:32--  https://gist.githubusercontent.com/Vs8th/9fcfa729905072c12b1e535c71565a68/raw/sessions.csv\n",
            "Resolving gist.githubusercontent.com (gist.githubusercontent.com)... 185.199.108.133, 185.199.109.133, 185.199.110.133, ...\n",
            "Connecting to gist.githubusercontent.com (gist.githubusercontent.com)|185.199.108.133|:443... connected.\n",
            "HTTP request sent, awaiting response... 200 OK\n",
            "Length: 1880014 (1.8M) [text/plain]\n",
            "Saving to: ‘sessions.csv’\n",
            "\n",
            "sessions.csv        100%[===================>]   1.79M  --.-KB/s    in 0.1s    \n",
            "\n",
            "2025-08-05 06:25:33 (18.7 MB/s) - ‘sessions.csv’ saved [1880014/1880014]\n",
            "\n"
          ]
        }
      ],
      "source": [
        "!wget https://gist.github.com/Vs8th/9fcfa729905072c12b1e535c71565a68/raw/sessions.csv"
      ]
    },
    {
      "cell_type": "markdown",
      "source": [
        "Чтобы посмотреть как он выглядит выполните следующую ячейку."
      ],
      "metadata": {
        "id": "JIwIK2E5fcyA"
      }
    },
    {
      "cell_type": "code",
      "source": [
        "import pandas as pd\n",
        "\n",
        "df = pd.read_csv('sessions.csv')\n",
        "df"
      ],
      "metadata": {
        "id": "6f84pObFfbGE",
        "colab": {
          "base_uri": "https://localhost:8080/",
          "height": 419
        },
        "outputId": "dda625b7-9baf-4ba1-cf69-e48e602756e4"
      },
      "execution_count": null,
      "outputs": [
        {
          "output_type": "execute_result",
          "data": {
            "text/plain": [
              "      user_id                                            session\n",
              "0       user0  [\"2023-05-06 20:43:45\", 1192, [[\"page0\", \"2023...\n",
              "1       user1  [\"2023-05-03 15:39:47\", 1642, [[\"page0\", \"2023...\n",
              "2       user1  [\"2023-05-16 21:24:30\", 506, [[\"page0\", \"2023-...\n",
              "3       user1  [\"2023-05-09 01:41:35\", 1004, [[\"page0\", \"2023...\n",
              "4       user1  [\"2023-05-26 05:31:50\", 984, [[\"page0\", \"2023-...\n",
              "...       ...                                                ...\n",
              "5278  user998  [\"2023-05-26 17:33:49\", 631, [[\"page0\", \"2023-...\n",
              "5279  user998  [\"2023-05-15 23:21:39\", 1393, [[\"page0\", \"2023...\n",
              "5280  user998  [\"2023-05-16 10:15:48\", 1448, [[\"page0\", \"2023...\n",
              "5281  user998  [\"2023-05-26 17:06:25\", 810, [[\"page0\", \"2023-...\n",
              "5282  user999  [\"2023-05-20 08:08:50\", 744, [[\"page0\", \"2023-...\n",
              "\n",
              "[5283 rows x 2 columns]"
            ],
            "text/html": [
              "\n",
              "  <div id=\"df-5e227086-3349-4dd0-acd0-59d74c084f7a\">\n",
              "    <div class=\"colab-df-container\">\n",
              "      <div>\n",
              "<style scoped>\n",
              "    .dataframe tbody tr th:only-of-type {\n",
              "        vertical-align: middle;\n",
              "    }\n",
              "\n",
              "    .dataframe tbody tr th {\n",
              "        vertical-align: top;\n",
              "    }\n",
              "\n",
              "    .dataframe thead th {\n",
              "        text-align: right;\n",
              "    }\n",
              "</style>\n",
              "<table border=\"1\" class=\"dataframe\">\n",
              "  <thead>\n",
              "    <tr style=\"text-align: right;\">\n",
              "      <th></th>\n",
              "      <th>user_id</th>\n",
              "      <th>session</th>\n",
              "    </tr>\n",
              "  </thead>\n",
              "  <tbody>\n",
              "    <tr>\n",
              "      <th>0</th>\n",
              "      <td>user0</td>\n",
              "      <td>[\"2023-05-06 20:43:45\", 1192, [[\"page0\", \"2023...</td>\n",
              "    </tr>\n",
              "    <tr>\n",
              "      <th>1</th>\n",
              "      <td>user1</td>\n",
              "      <td>[\"2023-05-03 15:39:47\", 1642, [[\"page0\", \"2023...</td>\n",
              "    </tr>\n",
              "    <tr>\n",
              "      <th>2</th>\n",
              "      <td>user1</td>\n",
              "      <td>[\"2023-05-16 21:24:30\", 506, [[\"page0\", \"2023-...</td>\n",
              "    </tr>\n",
              "    <tr>\n",
              "      <th>3</th>\n",
              "      <td>user1</td>\n",
              "      <td>[\"2023-05-09 01:41:35\", 1004, [[\"page0\", \"2023...</td>\n",
              "    </tr>\n",
              "    <tr>\n",
              "      <th>4</th>\n",
              "      <td>user1</td>\n",
              "      <td>[\"2023-05-26 05:31:50\", 984, [[\"page0\", \"2023-...</td>\n",
              "    </tr>\n",
              "    <tr>\n",
              "      <th>...</th>\n",
              "      <td>...</td>\n",
              "      <td>...</td>\n",
              "    </tr>\n",
              "    <tr>\n",
              "      <th>5278</th>\n",
              "      <td>user998</td>\n",
              "      <td>[\"2023-05-26 17:33:49\", 631, [[\"page0\", \"2023-...</td>\n",
              "    </tr>\n",
              "    <tr>\n",
              "      <th>5279</th>\n",
              "      <td>user998</td>\n",
              "      <td>[\"2023-05-15 23:21:39\", 1393, [[\"page0\", \"2023...</td>\n",
              "    </tr>\n",
              "    <tr>\n",
              "      <th>5280</th>\n",
              "      <td>user998</td>\n",
              "      <td>[\"2023-05-16 10:15:48\", 1448, [[\"page0\", \"2023...</td>\n",
              "    </tr>\n",
              "    <tr>\n",
              "      <th>5281</th>\n",
              "      <td>user998</td>\n",
              "      <td>[\"2023-05-26 17:06:25\", 810, [[\"page0\", \"2023-...</td>\n",
              "    </tr>\n",
              "    <tr>\n",
              "      <th>5282</th>\n",
              "      <td>user999</td>\n",
              "      <td>[\"2023-05-20 08:08:50\", 744, [[\"page0\", \"2023-...</td>\n",
              "    </tr>\n",
              "  </tbody>\n",
              "</table>\n",
              "<p>5283 rows × 2 columns</p>\n",
              "</div>\n",
              "      <button class=\"colab-df-convert\" onclick=\"convertToInteractive('df-5e227086-3349-4dd0-acd0-59d74c084f7a')\"\n",
              "              title=\"Convert this dataframe to an interactive table.\"\n",
              "              style=\"display:none;\">\n",
              "        \n",
              "  <svg xmlns=\"http://www.w3.org/2000/svg\" height=\"24px\"viewBox=\"0 0 24 24\"\n",
              "       width=\"24px\">\n",
              "    <path d=\"M0 0h24v24H0V0z\" fill=\"none\"/>\n",
              "    <path d=\"M18.56 5.44l.94 2.06.94-2.06 2.06-.94-2.06-.94-.94-2.06-.94 2.06-2.06.94zm-11 1L8.5 8.5l.94-2.06 2.06-.94-2.06-.94L8.5 2.5l-.94 2.06-2.06.94zm10 10l.94 2.06.94-2.06 2.06-.94-2.06-.94-.94-2.06-.94 2.06-2.06.94z\"/><path d=\"M17.41 7.96l-1.37-1.37c-.4-.4-.92-.59-1.43-.59-.52 0-1.04.2-1.43.59L10.3 9.45l-7.72 7.72c-.78.78-.78 2.05 0 2.83L4 21.41c.39.39.9.59 1.41.59.51 0 1.02-.2 1.41-.59l7.78-7.78 2.81-2.81c.8-.78.8-2.07 0-2.86zM5.41 20L4 18.59l7.72-7.72 1.47 1.35L5.41 20z\"/>\n",
              "  </svg>\n",
              "      </button>\n",
              "      \n",
              "  <style>\n",
              "    .colab-df-container {\n",
              "      display:flex;\n",
              "      flex-wrap:wrap;\n",
              "      gap: 12px;\n",
              "    }\n",
              "\n",
              "    .colab-df-convert {\n",
              "      background-color: #E8F0FE;\n",
              "      border: none;\n",
              "      border-radius: 50%;\n",
              "      cursor: pointer;\n",
              "      display: none;\n",
              "      fill: #1967D2;\n",
              "      height: 32px;\n",
              "      padding: 0 0 0 0;\n",
              "      width: 32px;\n",
              "    }\n",
              "\n",
              "    .colab-df-convert:hover {\n",
              "      background-color: #E2EBFA;\n",
              "      box-shadow: 0px 1px 2px rgba(60, 64, 67, 0.3), 0px 1px 3px 1px rgba(60, 64, 67, 0.15);\n",
              "      fill: #174EA6;\n",
              "    }\n",
              "\n",
              "    [theme=dark] .colab-df-convert {\n",
              "      background-color: #3B4455;\n",
              "      fill: #D2E3FC;\n",
              "    }\n",
              "\n",
              "    [theme=dark] .colab-df-convert:hover {\n",
              "      background-color: #434B5C;\n",
              "      box-shadow: 0px 1px 3px 1px rgba(0, 0, 0, 0.15);\n",
              "      filter: drop-shadow(0px 1px 2px rgba(0, 0, 0, 0.3));\n",
              "      fill: #FFFFFF;\n",
              "    }\n",
              "  </style>\n",
              "\n",
              "      <script>\n",
              "        const buttonEl =\n",
              "          document.querySelector('#df-5e227086-3349-4dd0-acd0-59d74c084f7a button.colab-df-convert');\n",
              "        buttonEl.style.display =\n",
              "          google.colab.kernel.accessAllowed ? 'block' : 'none';\n",
              "\n",
              "        async function convertToInteractive(key) {\n",
              "          const element = document.querySelector('#df-5e227086-3349-4dd0-acd0-59d74c084f7a');\n",
              "          const dataTable =\n",
              "            await google.colab.kernel.invokeFunction('convertToInteractive',\n",
              "                                                     [key], {});\n",
              "          if (!dataTable) return;\n",
              "\n",
              "          const docLinkHtml = 'Like what you see? Visit the ' +\n",
              "            '<a target=\"_blank\" href=https://colab.research.google.com/notebooks/data_table.ipynb>data table notebook</a>'\n",
              "            + ' to learn more about interactive tables.';\n",
              "          element.innerHTML = '';\n",
              "          dataTable['output_type'] = 'display_data';\n",
              "          await google.colab.output.renderOutput(dataTable, element);\n",
              "          const docLink = document.createElement('div');\n",
              "          docLink.innerHTML = docLinkHtml;\n",
              "          element.appendChild(docLink);\n",
              "        }\n",
              "      </script>\n",
              "    </div>\n",
              "  </div>\n",
              "  "
            ]
          },
          "metadata": {},
          "execution_count": 2
        }
      ]
    },
    {
      "cell_type": "markdown",
      "source": [
        "### **Решения**"
      ],
      "metadata": {
        "id": "CxmnD3GvffQ4"
      }
    },
    {
      "cell_type": "markdown",
      "source": [
        "#### **Задача 1**\n",
        "\n",
        "Ваша задача написать функцию `get_time_to_conversion`, которая принимает на вход сессии в формате, который вы определили для себя и подсчитывает среднее время между заходом на сайт и целевым действием.\n",
        "\n",
        "Результат - число типа `float`, округленное до двух знаков после запятой, сохраните в переменную `res`"
      ],
      "metadata": {
        "id": "5bdLXu2ksLB7"
      }
    },
    {
      "cell_type": "markdown",
      "source": [
        "**Решение**\n",
        "\n",
        "Напишите свое решение ниже"
      ],
      "metadata": {
        "id": "qUL4LtIUnJge"
      }
    },
    {
      "cell_type": "code",
      "source": [
        "import csv, json\n",
        "from datetime import datetime\n",
        "\n",
        "def get_time_to_conversion(sess_file):\n",
        "    sess_time = []\n",
        "    with open(sess_file, 'r') as f:\n",
        "        s_data = csv.DictReader(f, fieldnames=None, delimiter=',')\n",
        "        for row in s_data:\n",
        "            session = json.loads(row['session'])\n",
        "            session_start = datetime.fromisoformat(session[0])\n",
        "            targ_act = [datetime.fromisoformat(s[1])  for s in session[2] if s[0] == 'conversion']\n",
        "            if len(targ_act) > 0:\n",
        "                tm = (min(targ_act) - session_start).total_seconds()\n",
        "                sess_time.append(tm)\n",
        "\n",
        "        return round(sum(sess_time) / len(sess_time), 2)\n",
        "\n",
        "res = get_time_to_conversion('sessions.csv')\n",
        "\n",
        "print(res)"
      ],
      "metadata": {
        "id": "Ia39hhmZbNRW",
        "colab": {
          "base_uri": "https://localhost:8080/"
        },
        "outputId": "1a3b35bb-bcad-4b3b-8ba6-f70592ca10a2"
      },
      "execution_count": 3,
      "outputs": [
        {
          "output_type": "stream",
          "name": "stdout",
          "text": [
            "467.24\n"
          ]
        }
      ]
    },
    {
      "cell_type": "markdown",
      "source": [
        "✏️ ✏️ ✏️\n",
        "\n",
        "**Проверка**\n",
        "\n",
        "Чтобы проверить свое решение, запустите код в следующих ячейках"
      ],
      "metadata": {
        "id": "54Tvpn9OkDwV"
      }
    },
    {
      "cell_type": "code",
      "source": [
        "try:\n",
        "    assert res == 467.24\n",
        "except AssertionError:\n",
        "    print('Ответы не совпадают')\n",
        "else:\n",
        "    print('Поздравляем, Вы справились!')"
      ],
      "metadata": {
        "id": "LkqzVw9skKEC",
        "colab": {
          "base_uri": "https://localhost:8080/"
        },
        "outputId": "80cc5b80-dbfa-4b7c-b57d-12e3708a5d9d"
      },
      "execution_count": 4,
      "outputs": [
        {
          "output_type": "stream",
          "name": "stdout",
          "text": [
            "Поздравляем, Вы справились!\n"
          ]
        }
      ]
    },
    {
      "cell_type": "markdown",
      "source": [
        "#### **Задача 2**\n",
        "\n",
        "Ваша задача написать функцию `get_session_duration`, которая принимает на вход сессии в формате, который вы определили для себя и подсчитывает сколько вообще в среднем длится сессия.\n",
        "\n",
        "Результат - число типа `float`, округленное до двух знаков после запятой, сохраните в переменную `res2`"
      ],
      "metadata": {
        "id": "QLNMvvhXoIdV"
      }
    },
    {
      "cell_type": "markdown",
      "source": [
        "**Решение**\n",
        "\n",
        "Напишите свое решение ниже"
      ],
      "metadata": {
        "id": "LThhpSINoMHN"
      }
    },
    {
      "cell_type": "code",
      "source": [
        "import csv, json\n",
        "from datetime import datetime\n",
        "\n",
        "def get_session_duration(sess_file):\n",
        "    sess_time = []\n",
        "    with open(sess_file, 'r') as f:\n",
        "        s_data = csv.DictReader(f, fieldnames=None, delimiter=',')\n",
        "        for row in s_data:\n",
        "            session = json.loads(row['session'])\n",
        "            sess_time.append(session[1])\n",
        "    return round(sum(sess_time) / len(sess_time), 2)\n",
        "\n",
        "res2 = get_session_duration('sessions.csv')"
      ],
      "metadata": {
        "id": "9s8JBMlboJuf"
      },
      "execution_count": 6,
      "outputs": []
    },
    {
      "cell_type": "markdown",
      "source": [
        "✏️ ✏️ ✏️\n",
        "\n",
        "**Проверка**\n",
        "\n",
        "Чтобы проверить свое решение, запустите код в следующих ячейках"
      ],
      "metadata": {
        "id": "GN_PNZICsxRD"
      }
    },
    {
      "cell_type": "code",
      "source": [
        "try:\n",
        "    assert res2 == 901.35\n",
        "except AssertionError:\n",
        "    print('Ответы не совпадают')\n",
        "else:\n",
        "    print('Поздравляем, Вы справились!')"
      ],
      "metadata": {
        "id": "tys9eJRSqcEW",
        "colab": {
          "base_uri": "https://localhost:8080/"
        },
        "outputId": "a1e609fd-0466-4932-d8e6-6f9450c196a6"
      },
      "execution_count": 7,
      "outputs": [
        {
          "output_type": "stream",
          "name": "stdout",
          "text": [
            "Поздравляем, Вы справились!\n"
          ]
        }
      ]
    },
    {
      "cell_type": "markdown",
      "source": [
        "#### **Задача 3**\n",
        "\n",
        "Напишите функцию `get_daily_session_count`, которая принимает на вход сессии в формате, который вы определили для себя и подсчитывает cколько разных заходов в течение дня делает пользователь.\n",
        "\n",
        "Результат - число типа `float`, округленное до двух знаков после запятой, сохраните в переменную `res3`"
      ],
      "metadata": {
        "id": "AwB-HtPLtjyl"
      }
    },
    {
      "cell_type": "markdown",
      "source": [
        "**Решение**\n",
        "\n",
        "Напишите свое решение ниже"
      ],
      "metadata": {
        "id": "GOTB--hmt2xw"
      }
    },
    {
      "cell_type": "code",
      "source": [
        "import csv, json\n",
        "from datetime import datetime\n",
        "\n",
        "def get_daily_session_count(sess_file):\n",
        "    u_data = {}\n",
        "    with open(sess_file, 'r') as f:\n",
        "        s_data = csv.DictReader(f, fieldnames=None, delimiter=',')\n",
        "        for row in s_data:\n",
        "            session = json.loads(row['session'])\n",
        "            u_data.setdefault(row['user_id'],{})\n",
        "            u_data[row['user_id']].setdefault(datetime.fromisoformat(session[0]).date(), 0)\n",
        "            u_data[row['user_id']][datetime.fromisoformat(session[0]).date()] += 1\n",
        "    udays = 0\n",
        "    uentries = 0\n",
        "    for u, dt in u_data.items():\n",
        "        udays += len(dt)\n",
        "        uentries += sum(dt.values())\n",
        "    return round(uentries/udays,2)\n",
        "\n",
        "res3 = get_daily_session_count('sessions.csv')"
      ],
      "metadata": {
        "id": "fz7nRb_ntKMv"
      },
      "execution_count": 9,
      "outputs": []
    },
    {
      "cell_type": "markdown",
      "source": [
        "✏️ ✏️ ✏️\n",
        "\n",
        "**Проверка**\n",
        "\n",
        "Чтобы проверить свое решение, запустите код в следующих ячейках"
      ],
      "metadata": {
        "id": "0-7TiI06t8D0"
      }
    },
    {
      "cell_type": "code",
      "source": [
        "try:\n",
        "    assert res3 == 1.11\n",
        "except AssertionError:\n",
        "    print('Ответы не совпадают')\n",
        "else:\n",
        "    print('Поздравляем, Вы справились!')"
      ],
      "metadata": {
        "id": "eOzvKzYqt_UH",
        "colab": {
          "base_uri": "https://localhost:8080/"
        },
        "outputId": "068ffe3b-38d3-441c-bd5d-d4a4eb4c0644"
      },
      "execution_count": 10,
      "outputs": [
        {
          "output_type": "stream",
          "name": "stdout",
          "text": [
            "Поздравляем, Вы справились!\n"
          ]
        }
      ]
    },
    {
      "cell_type": "markdown",
      "source": [
        "#### **Задача 4**\n",
        "\n",
        "Напишите функцию `get_average_session_count`, которая принимает на вход сессии в формате, который вы определили для себя и подсчитывает сколько заходов вообще в среднем делает пользователь.\n",
        "\n",
        "Результат - число типа `float`, округленное до двух знаков после запятой, сохраните в переменную `res4`"
      ],
      "metadata": {
        "id": "R9huPDD3i9wz"
      }
    },
    {
      "cell_type": "markdown",
      "source": [
        "**Решение**\n",
        "\n",
        "Напишите свое решение ниже"
      ],
      "metadata": {
        "id": "1CWLkmQzjLNf"
      }
    },
    {
      "cell_type": "code",
      "source": [
        "import csv\n",
        "\n",
        "def get_average_session_count(sess_file):\n",
        "    u_entr = {}\n",
        "    with open(sess_file, 'r') as f:\n",
        "        s_data = csv.DictReader(f, fieldnames=None, delimiter=',')\n",
        "        for row in s_data:\n",
        "            u_entr.setdefault(row['user_id'], 0)\n",
        "            u_entr[row['user_id']] += 1\n",
        "    return round(sum(u_entr.values())/len(u_entr), 2)\n",
        "\n",
        "res4 = get_average_session_count('sessions.csv')"
      ],
      "metadata": {
        "id": "MaWSJGvEjJgq"
      },
      "execution_count": 11,
      "outputs": []
    },
    {
      "cell_type": "markdown",
      "source": [
        "✏️ ✏️ ✏️\n",
        "\n",
        "**Проверка**\n",
        "\n",
        "Чтобы проверить свое решение, запустите код в следующих ячейках"
      ],
      "metadata": {
        "id": "nLNPyebujSh8"
      }
    },
    {
      "cell_type": "code",
      "source": [
        "try:\n",
        "    assert res4 == 5.28\n",
        "except AssertionError:\n",
        "    print('Ответы не совпадают')\n",
        "else:\n",
        "    print('Поздравляем, Вы справились!')"
      ],
      "metadata": {
        "id": "oPvNP5sijS9v",
        "colab": {
          "base_uri": "https://localhost:8080/"
        },
        "outputId": "ab2bbf4f-54a3-42de-850f-cca7474bbbd5"
      },
      "execution_count": 12,
      "outputs": [
        {
          "output_type": "stream",
          "name": "stdout",
          "text": [
            "Поздравляем, Вы справились!\n"
          ]
        }
      ]
    },
    {
      "cell_type": "code",
      "source": [],
      "metadata": {
        "id": "ExXew_jhja_m"
      },
      "execution_count": null,
      "outputs": []
    }
  ]
}