{
  "nbformat": 4,
  "nbformat_minor": 0,
  "metadata": {
    "colab": {
      "provenance": [],
      "include_colab_link": true
    },
    "kernelspec": {
      "name": "python3",
      "display_name": "Python 3"
    },
    "language_info": {
      "name": "python"
    }
  },
  "cells": [
    {
      "cell_type": "markdown",
      "metadata": {
        "id": "view-in-github",
        "colab_type": "text"
      },
      "source": [
        "<a href=\"https://colab.research.google.com/github/krutse/sim-git/blob/master/python/Ch18/krutse%D0%90%D0%BA%D1%82%D0%B8%D0%B2%D0%BD%D0%BE%D1%81%D1%82%D1%8C_Itresume.ipynb\" target=\"_parent\"><img src=\"https://colab.research.google.com/assets/colab-badge.svg\" alt=\"Open In Colab\"/></a>"
      ]
    },
    {
      "cell_type": "markdown",
      "source": [
        "## **2 кейс**\n",
        "\n",
        "**Выгрузка активности с ItResume**"
      ],
      "metadata": {
        "id": "XUqCUBW5fUST"
      }
    },
    {
      "cell_type": "markdown",
      "source": [
        "**Важно**\n",
        "\n",
        "Перед началом решения выполните следующую ячейку, чтобы загрузить необходимый для работы файл."
      ],
      "metadata": {
        "id": "OcK9kF9mfZIt"
      }
    },
    {
      "cell_type": "code",
      "execution_count": 1,
      "metadata": {
        "id": "KtNBw8nOfPsB",
        "outputId": "bff931af-64eb-4e14-e038-b787d5be848b",
        "colab": {
          "base_uri": "https://localhost:8080/"
        }
      },
      "outputs": [
        {
          "output_type": "stream",
          "name": "stdout",
          "text": [
            "--2025-08-05 06:19:51--  https://gist.github.com/Vs8th/a7a7f00e6cdef1b3fe87e4d61ca56e5f/raw/codesubmit.csv\n",
            "Resolving gist.github.com (gist.github.com)... 140.82.121.3\n",
            "Connecting to gist.github.com (gist.github.com)|140.82.121.3|:443... connected.\n",
            "HTTP request sent, awaiting response... 301 Moved Permanently\n",
            "Location: https://gist.githubusercontent.com/Vs8th/a7a7f00e6cdef1b3fe87e4d61ca56e5f/raw/codesubmit.csv [following]\n",
            "--2025-08-05 06:19:51--  https://gist.githubusercontent.com/Vs8th/a7a7f00e6cdef1b3fe87e4d61ca56e5f/raw/codesubmit.csv\n",
            "Resolving gist.githubusercontent.com (gist.githubusercontent.com)... 185.199.108.133, 185.199.109.133, 185.199.110.133, ...\n",
            "Connecting to gist.githubusercontent.com (gist.githubusercontent.com)|185.199.108.133|:443... connected.\n",
            "HTTP request sent, awaiting response... 200 OK\n",
            "Length: 215378 (210K) [text/plain]\n",
            "Saving to: ‘codesubmit.csv’\n",
            "\n",
            "codesubmit.csv      100%[===================>] 210.33K  --.-KB/s    in 0.01s   \n",
            "\n",
            "2025-08-05 06:19:51 (15.8 MB/s) - ‘codesubmit.csv’ saved [215378/215378]\n",
            "\n"
          ]
        }
      ],
      "source": [
        "!wget https://gist.github.com/Vs8th/a7a7f00e6cdef1b3fe87e4d61ca56e5f/raw/codesubmit.csv"
      ]
    },
    {
      "cell_type": "markdown",
      "source": [
        "Чтобы посмотреть как он выглядит выполните следующую ячейку."
      ],
      "metadata": {
        "id": "JIwIK2E5fcyA"
      }
    },
    {
      "cell_type": "code",
      "source": [
        "import pandas as pd\n",
        "\n",
        "df = pd.read_csv('codesubmit.csv', sep = ';')\n",
        "df"
      ],
      "metadata": {
        "id": "6f84pObFfbGE",
        "colab": {
          "base_uri": "https://localhost:8080/",
          "height": 419
        },
        "outputId": "9db0feea-1d29-495c-a965-73b4a3a4bacc"
      },
      "execution_count": null,
      "outputs": [
        {
          "output_type": "execute_result",
          "data": {
            "text/plain": [
              "                      created_at  user_id  problem_id  is_correct    type\n",
              "0     2023-04-30 13:47:14.344471        7         870         1.0  submit\n",
              "1     2023-04-30 13:46:15.949925        7         870         0.0  submit\n",
              "2     2023-04-30 16:13:26.005286      173          21         1.0  submit\n",
              "3     2023-04-30 16:13:06.739782      173          21         NaN     run\n",
              "4     2023-04-30 15:52:00.195532      173          25         1.0  submit\n",
              "...                          ...      ...         ...         ...     ...\n",
              "4994  2023-04-30 21:52:00.269123    13493         435         NaN     run\n",
              "4995  2023-04-30 21:51:01.094234    13493         435         1.0  submit\n",
              "4996  2023-04-30 21:50:52.059690    13493         435         NaN     run\n",
              "4997  2023-04-30 21:42:24.323689    13493        1086         NaN     run\n",
              "4998  2023-04-30 21:36:13.783309    13493        1086         NaN     run\n",
              "\n",
              "[4999 rows x 5 columns]"
            ],
            "text/html": [
              "\n",
              "  <div id=\"df-fa64f658-a428-4438-ac17-30b9198d2b0c\">\n",
              "    <div class=\"colab-df-container\">\n",
              "      <div>\n",
              "<style scoped>\n",
              "    .dataframe tbody tr th:only-of-type {\n",
              "        vertical-align: middle;\n",
              "    }\n",
              "\n",
              "    .dataframe tbody tr th {\n",
              "        vertical-align: top;\n",
              "    }\n",
              "\n",
              "    .dataframe thead th {\n",
              "        text-align: right;\n",
              "    }\n",
              "</style>\n",
              "<table border=\"1\" class=\"dataframe\">\n",
              "  <thead>\n",
              "    <tr style=\"text-align: right;\">\n",
              "      <th></th>\n",
              "      <th>created_at</th>\n",
              "      <th>user_id</th>\n",
              "      <th>problem_id</th>\n",
              "      <th>is_correct</th>\n",
              "      <th>type</th>\n",
              "    </tr>\n",
              "  </thead>\n",
              "  <tbody>\n",
              "    <tr>\n",
              "      <th>0</th>\n",
              "      <td>2023-04-30 13:47:14.344471</td>\n",
              "      <td>7</td>\n",
              "      <td>870</td>\n",
              "      <td>1.0</td>\n",
              "      <td>submit</td>\n",
              "    </tr>\n",
              "    <tr>\n",
              "      <th>1</th>\n",
              "      <td>2023-04-30 13:46:15.949925</td>\n",
              "      <td>7</td>\n",
              "      <td>870</td>\n",
              "      <td>0.0</td>\n",
              "      <td>submit</td>\n",
              "    </tr>\n",
              "    <tr>\n",
              "      <th>2</th>\n",
              "      <td>2023-04-30 16:13:26.005286</td>\n",
              "      <td>173</td>\n",
              "      <td>21</td>\n",
              "      <td>1.0</td>\n",
              "      <td>submit</td>\n",
              "    </tr>\n",
              "    <tr>\n",
              "      <th>3</th>\n",
              "      <td>2023-04-30 16:13:06.739782</td>\n",
              "      <td>173</td>\n",
              "      <td>21</td>\n",
              "      <td>NaN</td>\n",
              "      <td>run</td>\n",
              "    </tr>\n",
              "    <tr>\n",
              "      <th>4</th>\n",
              "      <td>2023-04-30 15:52:00.195532</td>\n",
              "      <td>173</td>\n",
              "      <td>25</td>\n",
              "      <td>1.0</td>\n",
              "      <td>submit</td>\n",
              "    </tr>\n",
              "    <tr>\n",
              "      <th>...</th>\n",
              "      <td>...</td>\n",
              "      <td>...</td>\n",
              "      <td>...</td>\n",
              "      <td>...</td>\n",
              "      <td>...</td>\n",
              "    </tr>\n",
              "    <tr>\n",
              "      <th>4994</th>\n",
              "      <td>2023-04-30 21:52:00.269123</td>\n",
              "      <td>13493</td>\n",
              "      <td>435</td>\n",
              "      <td>NaN</td>\n",
              "      <td>run</td>\n",
              "    </tr>\n",
              "    <tr>\n",
              "      <th>4995</th>\n",
              "      <td>2023-04-30 21:51:01.094234</td>\n",
              "      <td>13493</td>\n",
              "      <td>435</td>\n",
              "      <td>1.0</td>\n",
              "      <td>submit</td>\n",
              "    </tr>\n",
              "    <tr>\n",
              "      <th>4996</th>\n",
              "      <td>2023-04-30 21:50:52.059690</td>\n",
              "      <td>13493</td>\n",
              "      <td>435</td>\n",
              "      <td>NaN</td>\n",
              "      <td>run</td>\n",
              "    </tr>\n",
              "    <tr>\n",
              "      <th>4997</th>\n",
              "      <td>2023-04-30 21:42:24.323689</td>\n",
              "      <td>13493</td>\n",
              "      <td>1086</td>\n",
              "      <td>NaN</td>\n",
              "      <td>run</td>\n",
              "    </tr>\n",
              "    <tr>\n",
              "      <th>4998</th>\n",
              "      <td>2023-04-30 21:36:13.783309</td>\n",
              "      <td>13493</td>\n",
              "      <td>1086</td>\n",
              "      <td>NaN</td>\n",
              "      <td>run</td>\n",
              "    </tr>\n",
              "  </tbody>\n",
              "</table>\n",
              "<p>4999 rows × 5 columns</p>\n",
              "</div>\n",
              "      <button class=\"colab-df-convert\" onclick=\"convertToInteractive('df-fa64f658-a428-4438-ac17-30b9198d2b0c')\"\n",
              "              title=\"Convert this dataframe to an interactive table.\"\n",
              "              style=\"display:none;\">\n",
              "        \n",
              "  <svg xmlns=\"http://www.w3.org/2000/svg\" height=\"24px\"viewBox=\"0 0 24 24\"\n",
              "       width=\"24px\">\n",
              "    <path d=\"M0 0h24v24H0V0z\" fill=\"none\"/>\n",
              "    <path d=\"M18.56 5.44l.94 2.06.94-2.06 2.06-.94-2.06-.94-.94-2.06-.94 2.06-2.06.94zm-11 1L8.5 8.5l.94-2.06 2.06-.94-2.06-.94L8.5 2.5l-.94 2.06-2.06.94zm10 10l.94 2.06.94-2.06 2.06-.94-2.06-.94-.94-2.06-.94 2.06-2.06.94z\"/><path d=\"M17.41 7.96l-1.37-1.37c-.4-.4-.92-.59-1.43-.59-.52 0-1.04.2-1.43.59L10.3 9.45l-7.72 7.72c-.78.78-.78 2.05 0 2.83L4 21.41c.39.39.9.59 1.41.59.51 0 1.02-.2 1.41-.59l7.78-7.78 2.81-2.81c.8-.78.8-2.07 0-2.86zM5.41 20L4 18.59l7.72-7.72 1.47 1.35L5.41 20z\"/>\n",
              "  </svg>\n",
              "      </button>\n",
              "      \n",
              "  <style>\n",
              "    .colab-df-container {\n",
              "      display:flex;\n",
              "      flex-wrap:wrap;\n",
              "      gap: 12px;\n",
              "    }\n",
              "\n",
              "    .colab-df-convert {\n",
              "      background-color: #E8F0FE;\n",
              "      border: none;\n",
              "      border-radius: 50%;\n",
              "      cursor: pointer;\n",
              "      display: none;\n",
              "      fill: #1967D2;\n",
              "      height: 32px;\n",
              "      padding: 0 0 0 0;\n",
              "      width: 32px;\n",
              "    }\n",
              "\n",
              "    .colab-df-convert:hover {\n",
              "      background-color: #E2EBFA;\n",
              "      box-shadow: 0px 1px 2px rgba(60, 64, 67, 0.3), 0px 1px 3px 1px rgba(60, 64, 67, 0.15);\n",
              "      fill: #174EA6;\n",
              "    }\n",
              "\n",
              "    [theme=dark] .colab-df-convert {\n",
              "      background-color: #3B4455;\n",
              "      fill: #D2E3FC;\n",
              "    }\n",
              "\n",
              "    [theme=dark] .colab-df-convert:hover {\n",
              "      background-color: #434B5C;\n",
              "      box-shadow: 0px 1px 3px 1px rgba(0, 0, 0, 0.15);\n",
              "      filter: drop-shadow(0px 1px 2px rgba(0, 0, 0, 0.3));\n",
              "      fill: #FFFFFF;\n",
              "    }\n",
              "  </style>\n",
              "\n",
              "      <script>\n",
              "        const buttonEl =\n",
              "          document.querySelector('#df-fa64f658-a428-4438-ac17-30b9198d2b0c button.colab-df-convert');\n",
              "        buttonEl.style.display =\n",
              "          google.colab.kernel.accessAllowed ? 'block' : 'none';\n",
              "\n",
              "        async function convertToInteractive(key) {\n",
              "          const element = document.querySelector('#df-fa64f658-a428-4438-ac17-30b9198d2b0c');\n",
              "          const dataTable =\n",
              "            await google.colab.kernel.invokeFunction('convertToInteractive',\n",
              "                                                     [key], {});\n",
              "          if (!dataTable) return;\n",
              "\n",
              "          const docLinkHtml = 'Like what you see? Visit the ' +\n",
              "            '<a target=\"_blank\" href=https://colab.research.google.com/notebooks/data_table.ipynb>data table notebook</a>'\n",
              "            + ' to learn more about interactive tables.';\n",
              "          element.innerHTML = '';\n",
              "          dataTable['output_type'] = 'display_data';\n",
              "          await google.colab.output.renderOutput(dataTable, element);\n",
              "          const docLink = document.createElement('div');\n",
              "          docLink.innerHTML = docLinkHtml;\n",
              "          element.appendChild(docLink);\n",
              "        }\n",
              "      </script>\n",
              "    </div>\n",
              "  </div>\n",
              "  "
            ]
          },
          "metadata": {},
          "execution_count": 2
        }
      ]
    },
    {
      "cell_type": "markdown",
      "source": [
        "### **Решения**"
      ],
      "metadata": {
        "id": "CxmnD3GvffQ4"
      }
    },
    {
      "cell_type": "markdown",
      "source": [
        "#### **Задача 1**\n",
        "\n",
        "Ваша задача - выяснить сколько в среднем тратится времени на решение задачи.\n",
        "\n",
        "**Примечание**: для правильного подсчета - рассчитайте сначала среднее время решения по каждой задаче в отдельности, и только затем находите общее среднее время решения задач.\n",
        "\n",
        "Результат - число типа `float`, округлите до 2 знаков после запятой и запишите в переменную `res`.\n"
      ],
      "metadata": {
        "id": "5bdLXu2ksLB7"
      }
    },
    {
      "cell_type": "markdown",
      "source": [
        "**Решение**\n",
        "\n",
        "Напишите свое решение ниже"
      ],
      "metadata": {
        "id": "qUL4LtIUnJge"
      }
    },
    {
      "cell_type": "code",
      "source": [
        "\n",
        "# Ваше решение здесь\n",
        "import csv\n",
        "from datetime import datetime, timedelta\n",
        "\n",
        "t_data = {}\n",
        "task_time = {}\n",
        "with open('codesubmit.csv', 'r') as f:\n",
        "    data_set = csv.DictReader(f,fieldnames=None,delimiter=';')\n",
        "    for row in data_set:\n",
        "        t_data.setdefault(row['problem_id'], {})\n",
        "        t_data[row['problem_id']].setdefault(row['user_id'], {})\n",
        "        t_data[row['problem_id']][row['user_id']].setdefault('run', [])\n",
        "        t_data[row['problem_id']][row['user_id']].setdefault('submit', [])\n",
        "        if row['is_correct'] == '0' or row['type'] == 'run':\n",
        "            t_data[row['problem_id']][row['user_id']]['run']. append(datetime.fromisoformat(row['created_at']))\n",
        "        elif  row['is_correct'] == '1':\n",
        "            t_data[row['problem_id']][row['user_id']]['submit']. append(datetime.fromisoformat(row['created_at']))\n",
        "    for tsk, usr in t_data.items():\n",
        "        for k, v in usr.items():\n",
        "            if len(v['run']) > 0:\n",
        "                t_data[tsk][k]['run'] = min(v['run'])\n",
        "            if len(v['submit']) > 0:\n",
        "                t_data[tsk][k]['submit'] = min(v['submit'])\n",
        "    for tsk, usr in t_data.items():\n",
        "        for k, v in usr.items():\n",
        "            if not(isinstance(v['run'], list) or isinstance(v['submit'], list)): # отбрасываем тех кто не решил или решил сразу\n",
        "                if (v['submit'] - v['run']).total_seconds() > 0: # отбрасываем попытки после успешного решения\n",
        "                    task_time.setdefault(tsk, []).append((v['submit'] - v['run']).total_seconds())\n",
        "    aver_time = [sum(v)/len(v) for k, v in task_time.items()]\n",
        "res = round(sum(aver_time)/len(aver_time), 2)\n"
      ],
      "metadata": {
        "id": "Ia39hhmZbNRW",
        "colab": {
          "base_uri": "https://localhost:8080/"
        },
        "outputId": "be2200df-4c36-4b8c-fefc-ee85e026831a"
      },
      "execution_count": 3,
      "outputs": [
        {
          "output_type": "stream",
          "name": "stdout",
          "text": [
            "611.86\n"
          ]
        }
      ]
    },
    {
      "cell_type": "markdown",
      "source": [
        "✏️ ✏️ ✏️\n",
        "\n",
        "**Проверка**\n",
        "\n",
        "Чтобы проверить свое решение, запустите код в следующих ячейках"
      ],
      "metadata": {
        "id": "54Tvpn9OkDwV"
      }
    },
    {
      "cell_type": "code",
      "source": [
        "try:\n",
        "    assert res == 611.86\n",
        "except AssertionError:\n",
        "    print('Ответы не совпадают')\n",
        "else:\n",
        "    print('Поздравляем, Вы справились!')"
      ],
      "metadata": {
        "id": "LkqzVw9skKEC",
        "colab": {
          "base_uri": "https://localhost:8080/"
        },
        "outputId": "c231a98b-e817-45ab-fbd4-5a08a6c2da6c"
      },
      "execution_count": 4,
      "outputs": [
        {
          "output_type": "stream",
          "name": "stdout",
          "text": [
            "Поздравляем, Вы справились!\n"
          ]
        }
      ]
    },
    {
      "cell_type": "markdown",
      "source": [
        "#### **Задача 2**\n",
        "\n",
        "Ваша задача - выяснить сколько часов в среднем проводит юзер в день на платформе. Перерывы в активности за день - не учитываем.\n",
        "\n",
        "Результат - число типа `float`, округлите до 2 знаков после запятой и запишите в переменную `res2`."
      ],
      "metadata": {
        "id": "QLNMvvhXoIdV"
      }
    },
    {
      "cell_type": "markdown",
      "source": [
        "**Решение**\n",
        "\n",
        "Напишите свое решение ниже"
      ],
      "metadata": {
        "id": "LThhpSINoMHN"
      }
    },
    {
      "cell_type": "code",
      "source": [
        "\n",
        "# Ваше решение здесь\n",
        "import csv\n",
        "from datetime import datetime, timedelta\n",
        "t_data = {}\n",
        "user_time = {}\n",
        "with open('codesubmit.csv', 'r') as f:\n",
        "    data_set = csv.DictReader(f,fieldnames=None,delimiter=';')\n",
        "    for row in data_set:\n",
        "        dt = datetime.fromisoformat(row['created_at']).date()\n",
        "        t_data.setdefault(dt,{})\n",
        "        t_data[dt].setdefault(row['user_id'], []).append(datetime.fromisoformat(row['created_at']))\n",
        "for dt, usr in t_data.items():\n",
        "    for k, v in usr.items():\n",
        "        user_time.setdefault(dt, []).append((max(v)-min(v)).total_seconds()/60/60)\n",
        "aver_time = [sum(v)/len(v) for k, v in user_time.items()]\n",
        "res2 = round(sum(aver_time)/len(aver_time),2)"
      ],
      "metadata": {
        "id": "9s8JBMlboJuf"
      },
      "execution_count": 5,
      "outputs": []
    },
    {
      "cell_type": "markdown",
      "source": [
        "✏️ ✏️ ✏️\n",
        "\n",
        "**Проверка**\n",
        "\n",
        "Чтобы проверить свое решение, запустите код в следующих ячейках"
      ],
      "metadata": {
        "id": "GN_PNZICsxRD"
      }
    },
    {
      "cell_type": "code",
      "source": [
        "try:\n",
        "    assert res2 == 1.7\n",
        "except AssertionError:\n",
        "    print('Ответы не совпадают')\n",
        "else:\n",
        "    print('Поздравляем, Вы справились!')"
      ],
      "metadata": {
        "colab": {
          "base_uri": "https://localhost:8080/"
        },
        "id": "a36bM9j9tD7l",
        "outputId": "7329b69d-23da-4604-8813-cb9cf0d193e9"
      },
      "execution_count": 6,
      "outputs": [
        {
          "output_type": "stream",
          "name": "stdout",
          "text": [
            "Поздравляем, Вы справились!\n"
          ]
        }
      ]
    },
    {
      "cell_type": "markdown",
      "source": [
        "#### **Задача 3**\n",
        "\n",
        "Теперь давайте посмотрим на активные сеансы. Выясните, сколько задач в среднем решается за один активный сеанс.\n",
        "\n",
        "**Активный сеанс** - период, когда между любой активностью пользователя разница менее или равна часу, не более\n",
        "\n",
        "**Важно**: в расчет берем не только успешные попытки решений (`is_correct=1`), а и неуспешные тоже (`is_correct=0`), и тип `run` в том числе.\n",
        "\n",
        "Результат - число типа `float`, округлите до 2 знаков после запятой и запишите в переменную `res3`."
      ],
      "metadata": {
        "id": "AwB-HtPLtjyl"
      }
    },
    {
      "cell_type": "markdown",
      "source": [
        "**Решение**\n",
        "\n",
        "Напишите свое решение ниже"
      ],
      "metadata": {
        "id": "GOTB--hmt2xw"
      }
    },
    {
      "cell_type": "code",
      "source": [
        "\n",
        "# Ваше решение здесь\n",
        "\n",
        "import csv\n",
        "from datetime import datetime\n",
        "\n",
        "t_data = {}\n",
        "user_sess = {}\n",
        "with open('codesubmit.csv', 'r') as f:\n",
        "    data_set = csv.DictReader(f,fieldnames=None,delimiter=';')\n",
        "    for row in data_set:\n",
        "        t_data.setdefault(row['user_id'],{})\n",
        "        t_data[row['user_id']][row['created_at']] = row['problem_id']\n",
        "usr_id = None\n",
        "sess_s_time = None\n",
        "sess_no = 0\n",
        "for usr, tsk in t_data.items():\n",
        "    if usr_id == None:\n",
        "        usr_id = usr\n",
        "    if usr_id != usr: # new user\n",
        "        usr_id = usr\n",
        "        sess_s_time = None\n",
        "        sess_no = 0\n",
        "    tsk = dict(sorted(tsk.items(), key= lambda x: x[0]))\n",
        "    for tt, t in tsk.items():\n",
        "        if sess_s_time == None:\n",
        "            sess_s_time = datetime.fromisoformat(tt)\n",
        "        if (datetime.fromisoformat(tt) - sess_s_time).total_seconds()  > 3600:\n",
        "            sess_no += 1\n",
        "            sess_s_time =  datetime.fromisoformat(tt)\n",
        "        user_sess.setdefault(usr, {})\n",
        "        user_sess[usr].setdefault(sess_no, {})\n",
        "        user_sess[usr][sess_no][t] = user_sess[usr][sess_no].setdefault(t, 1)\n",
        "        sess_s_time = datetime.fromisoformat(tt)\n",
        "# tsk_sess = [sum([v for _, tsk in sess.items() for _, v in tsk.items()])/ len(sess) for _, sess in user_sess.items()]\n",
        "tsk_sess = [len(tasks) for _, sess in user_sess.items() for _, tasks in sess.items()]\n",
        "res3 = round(sum(tsk_sess)/len(tsk_sess),2)\n",
        "print(res3)"
      ],
      "metadata": {
        "id": "fz7nRb_ntKMv",
        "colab": {
          "base_uri": "https://localhost:8080/"
        },
        "outputId": "224010c9-14ad-4095-ed0b-ac32c94d0e2e"
      },
      "execution_count": 7,
      "outputs": [
        {
          "output_type": "stream",
          "name": "stdout",
          "text": [
            "3.14\n"
          ]
        }
      ]
    },
    {
      "cell_type": "markdown",
      "source": [
        "✏️ ✏️ ✏️\n",
        "\n",
        "**Проверка**\n",
        "\n",
        "Чтобы проверить свое решение, запустите код в следующих ячейках"
      ],
      "metadata": {
        "id": "0-7TiI06t8D0"
      }
    },
    {
      "cell_type": "code",
      "source": [
        "try:\n",
        "    assert res3 == 3.14\n",
        "except AssertionError:\n",
        "    print('Ответы не совпадают')\n",
        "else:\n",
        "    print('Поздравляем, Вы справились!')"
      ],
      "metadata": {
        "id": "eOzvKzYqt_UH"
      },
      "execution_count": null,
      "outputs": []
    },
    {
      "cell_type": "markdown",
      "source": [
        "#### **Задача 4**\n",
        "\n",
        "И финальная - найдите самый \"популярный\" час дня на нашей платформе.\n",
        "\n",
        "Популярность определяем максимальным количеством уникальных пользователей, совершающих какую-либо активность в этот период\n",
        "\n",
        "Результат в числовом формате запишите в переменную `res4`.\n",
        "\n",
        "Например, самым популярным часом стал период с 22 до 23, тогда в переменной `res4` должно лежать **22**. Обозначающее начало этого периода."
      ],
      "metadata": {
        "id": "7YYyJ9pIOiu0"
      }
    },
    {
      "cell_type": "markdown",
      "source": [
        "**Решение**\n",
        "\n",
        "Напишите свое решение ниже"
      ],
      "metadata": {
        "id": "iSMSae9APKaH"
      }
    },
    {
      "cell_type": "code",
      "source": [
        "\n",
        "# Ваше решение здесь\n",
        "import csv\n",
        "from datetime import datetime\n",
        "\n",
        "t_data = {}\n",
        "h_data = {}\n",
        "with open('codesubmit.csv', 'r') as f:\n",
        "    data_set = csv.DictReader(f,fieldnames=None,delimiter=';')\n",
        "    for row in data_set:\n",
        "        t_data.setdefault(datetime.fromisoformat(row['created_at']).hour, {})\n",
        "        t_data[datetime.fromisoformat(row['created_at']).hour].setdefault(row['user_id'], 1)\n",
        "for h, usrs in t_data.items():\n",
        "    for usr, v in usrs.items():\n",
        "        h_data.setdefault(h, 0)\n",
        "        h_data[h] += v\n",
        "res4 = max(h_data, key=h_data.get)\n"
      ],
      "metadata": {
        "id": "YR3WT5QlPH75"
      },
      "execution_count": 3,
      "outputs": []
    },
    {
      "cell_type": "markdown",
      "source": [
        "✏️ ✏️ ✏️\n",
        "\n",
        "**Проверка**\n",
        "\n",
        "Чтобы проверить свое решение, запустите код в следующих ячейках"
      ],
      "metadata": {
        "id": "8BacSt70PPhN"
      }
    },
    {
      "cell_type": "code",
      "source": [
        "try:\n",
        "    assert res4 == 16\n",
        "except AssertionError:\n",
        "    print('Ответы не совпадают')\n",
        "else:\n",
        "    print('Поздравляем, Вы справились!')"
      ],
      "metadata": {
        "id": "8xdTbZWOPMp1",
        "colab": {
          "base_uri": "https://localhost:8080/"
        },
        "outputId": "6438bbc6-8a48-449d-a9f2-857dffc3e693"
      },
      "execution_count": 4,
      "outputs": [
        {
          "output_type": "stream",
          "name": "stdout",
          "text": [
            "Поздравляем, Вы справились!\n"
          ]
        }
      ]
    }
  ]
}