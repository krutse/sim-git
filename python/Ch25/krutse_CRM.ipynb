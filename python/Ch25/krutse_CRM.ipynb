{
  "nbformat": 4,
  "nbformat_minor": 0,
  "metadata": {
    "colab": {
      "provenance": [],
      "include_colab_link": true
    },
    "kernelspec": {
      "name": "python3",
      "display_name": "Python 3"
    },
    "language_info": {
      "name": "python"
    }
  },
  "cells": [
    {
      "cell_type": "markdown",
      "metadata": {
        "id": "view-in-github",
        "colab_type": "text"
      },
      "source": [
        "<a href=\"https://colab.research.google.com/github/krutse/sim-git/blob/master/python/Ch25/krutse_CRM.ipynb\" target=\"_parent\"><img src=\"https://colab.research.google.com/assets/colab-badge.svg\" alt=\"Open In Colab\"/></a>"
      ]
    },
    {
      "cell_type": "markdown",
      "source": [
        "## **3 кейс**\n",
        "\n",
        "**CRM**"
      ],
      "metadata": {
        "id": "XUqCUBW5fUST"
      }
    },
    {
      "cell_type": "markdown",
      "source": [
        "### **Решения**"
      ],
      "metadata": {
        "id": "CxmnD3GvffQ4"
      }
    },
    {
      "cell_type": "markdown",
      "source": [
        "#### **Задача 1**\n",
        "\n",
        "Создайте класс `Lead`."
      ],
      "metadata": {
        "id": "5bdLXu2ksLB7"
      }
    },
    {
      "cell_type": "markdown",
      "source": [
        "**Решение**\n",
        "\n",
        "Напишите свое решение ниже"
      ],
      "metadata": {
        "id": "qUL4LtIUnJge"
      }
    },
    {
      "cell_type": "code",
      "source": [
        "class Lead:\n",
        "    def __init__(self, lead_id, datetime, page, form_title, contacts, name):\n",
        "        self.lead_id = lead_id\n",
        "        self.datetime = datetime\n",
        "        self.page = page\n",
        "        self.form_title = form_title\n",
        "        self.contacts = contacts\n",
        "        self.name = name\n",
        "        self.__stage_id = 0\n",
        "\n",
        "    def to_dict(self):\n",
        "        return {'lead_id': self.lead_id, 'datetime': self.datetime, 'page': self.page, 'form_title': self.form_title, 'contacts': self.contacts, 'name': self.name}\n",
        "\n",
        "    def get_stage(self):\n",
        "        return self.__stage_id\n",
        "\n",
        "    def set_stage(self, stage_id):\n",
        "        self.__stage_id = stage_id"
      ],
      "metadata": {
        "id": "Ia39hhmZbNRW"
      },
      "execution_count": 7,
      "outputs": []
    },
    {
      "cell_type": "markdown",
      "source": [
        "✏️ ✏️ ✏️\n",
        "\n",
        "**Проверка**\n",
        "\n",
        "Чтобы проверить свое решение, запустите код в следующих ячейках"
      ],
      "metadata": {
        "id": "54Tvpn9OkDwV"
      }
    },
    {
      "cell_type": "code",
      "source": [
        "lead = Lead(1, '2023-07-01 10:00', 'example.com', 'Обратная связь', 'ivan@example.com', 'Иван Иванов')\n",
        "res = lead.to_dict()\n",
        "\n",
        "try:\n",
        "    assert res == {'lead_id': 1,\n",
        "                   'datetime': '2023-07-01 10:00',\n",
        "                   'page': 'example.com',\n",
        "                   'form_title': 'Обратная связь',\n",
        "                   'contacts': 'ivan@example.com',\n",
        "                   'name': 'Иван Иванов'}\n",
        "except AssertionError:\n",
        "    print('Ответы не совпадают')\n",
        "else:\n",
        "    print('Поздравляем, Вы справились!')"
      ],
      "metadata": {
        "id": "LkqzVw9skKEC",
        "colab": {
          "base_uri": "https://localhost:8080/"
        },
        "outputId": "2e4c3619-5b01-4a1d-a121-5f67eeaf417a"
      },
      "execution_count": 2,
      "outputs": [
        {
          "output_type": "stream",
          "name": "stdout",
          "text": [
            "Поздравляем, Вы справились!\n"
          ]
        }
      ]
    },
    {
      "cell_type": "markdown",
      "source": [
        "#### **Задача 2**\n",
        "\n",
        "Создайте класс `Simulator`."
      ],
      "metadata": {
        "id": "QLNMvvhXoIdV"
      }
    },
    {
      "cell_type": "markdown",
      "source": [
        "**Решение**\n",
        "\n",
        "Напишите свое решение ниже"
      ],
      "metadata": {
        "id": "LThhpSINoMHN"
      }
    },
    {
      "cell_type": "code",
      "source": [
        "class Simulator:\n",
        "    def __init__(self, simulator_type, version):\n",
        "        self.simulator_type = simulator_type\n",
        "        self.version = version\n",
        "\n",
        "    def to_dict(self):\n",
        "        return {'simulator_type': self.simulator_type, 'version': self.version}"
      ],
      "metadata": {
        "id": "9s8JBMlboJuf"
      },
      "execution_count": 3,
      "outputs": []
    },
    {
      "cell_type": "markdown",
      "source": [
        "✏️ ✏️ ✏️\n",
        "\n",
        "**Проверка**\n",
        "\n",
        "Чтобы проверить свое решение, запустите код в следующих ячейках"
      ],
      "metadata": {
        "id": "GN_PNZICsxRD"
      }
    },
    {
      "cell_type": "code",
      "source": [
        "simulator = Simulator('Type A', '1.0')\n",
        "res2 = simulator.to_dict()\n",
        "\n",
        "try:\n",
        "    assert res2 == {'simulator_type': 'Type A', 'version': '1.0'}\n",
        "except AssertionError:\n",
        "    print('Ответы не совпадают')\n",
        "else:\n",
        "    print('Поздравляем, Вы справились!')"
      ],
      "metadata": {
        "colab": {
          "base_uri": "https://localhost:8080/"
        },
        "id": "a36bM9j9tD7l",
        "outputId": "4a1e30f3-7a28-442e-ac71-c0d76786eeba"
      },
      "execution_count": 4,
      "outputs": [
        {
          "output_type": "stream",
          "name": "stdout",
          "text": [
            "Поздравляем, Вы справились!\n"
          ]
        }
      ]
    },
    {
      "cell_type": "markdown",
      "source": [
        "#### **Задача 3**\n",
        "\n",
        "Определите класс `SalesFunnel`. Пока без метода `process_lead`."
      ],
      "metadata": {
        "id": "AwB-HtPLtjyl"
      }
    },
    {
      "cell_type": "markdown",
      "source": [
        "**Решение**\n",
        "\n",
        "Напишите свое решение ниже"
      ],
      "metadata": {
        "id": "GOTB--hmt2xw"
      }
    },
    {
      "cell_type": "code",
      "source": [
        "class SalesFunnel:\n",
        "    def __init__(self):\n",
        "        self.stages = []\n",
        "\n",
        "    def add_stage(self, stage):\n",
        "        self.stages.append(stage)"
      ],
      "metadata": {
        "id": "fz7nRb_ntKMv"
      },
      "execution_count": 5,
      "outputs": []
    },
    {
      "cell_type": "markdown",
      "source": [
        "✏️ ✏️ ✏️\n",
        "\n",
        "**Проверка**\n",
        "\n",
        "Чтобы проверить свое решение, запустите код в следующих ячейках"
      ],
      "metadata": {
        "id": "0-7TiI06t8D0"
      }
    },
    {
      "cell_type": "code",
      "source": [
        "funnel = SalesFunnel()\n",
        "funnel.add_stage('Stage 1')\n",
        "funnel.add_stage('Stage 2')\n",
        "funnel.add_stage('Stage 3')\n",
        "res3 = funnel.stages\n",
        "\n",
        "try:\n",
        "    assert res3 == ['Stage 1', 'Stage 2', 'Stage 3']\n",
        "except AssertionError:\n",
        "    print('Ответы не совпадают')\n",
        "else:\n",
        "    print('Поздравляем, Вы справились!')"
      ],
      "metadata": {
        "colab": {
          "base_uri": "https://localhost:8080/"
        },
        "id": "KzV-hUKcvxb2",
        "outputId": "fc0e0e22-15fd-4a16-f184-3e5a28a0dbf6"
      },
      "execution_count": 6,
      "outputs": [
        {
          "output_type": "stream",
          "name": "stdout",
          "text": [
            "Поздравляем, Вы справились!\n"
          ]
        }
      ]
    },
    {
      "cell_type": "markdown",
      "source": [
        "#### **Задача 4**\n",
        "\n",
        "К классу `SalesFunnel` добавьте метод `process_lead`."
      ],
      "metadata": {
        "id": "CgRs9f--z9N-"
      }
    },
    {
      "cell_type": "markdown",
      "source": [
        "**Решение**\n",
        "\n",
        "Напишите свое решение ниже"
      ],
      "metadata": {
        "id": "HAC66WJB0DtG"
      }
    },
    {
      "cell_type": "code",
      "source": [
        "import requests\n",
        "\n",
        "class SalesFunnel:\n",
        "    def __init__(self, stages = []):\n",
        "        self.stages = stages\n",
        "\n",
        "    def add_stage(self, stage):\n",
        "        self.stages.append(stage)\n",
        "\n",
        "    def process_lead(self, lead):\n",
        "        log = []\n",
        "        current_stage_id = lead.get_stage()\n",
        "        current_stage = self.stages[current_stage_id]\n",
        "        log.append(f'Обработка лида {lead.lead_id} - Текущий этап: {current_stage}')\n",
        "        #request CRM\n",
        "        crm_url = \"https://itresume.com/crm/api/leads\"\n",
        "        crm_params = {\n",
        "           'lead_id': lead.lead_id,\n",
        "           'datetime': lead.datetime,\n",
        "           'page': lead.page,\n",
        "           'form_title': lead.form_title,\n",
        "           'contacts': lead.contacts,\n",
        "           'name': lead.name\n",
        "        }\n",
        "        try:\n",
        "            response = requests.post(crm_url, json=crm_params, timeout=5)\n",
        "            if response.status_code == 200:\n",
        "                log.append('Данные лида успешно отправлены в CRM')\n",
        "            else:\n",
        "                log.append('Не удалось отправить данные лида в CRM')\n",
        "        except:\n",
        "             log.append('Не удалось отправить данные лида в CRM')\n",
        "\n",
        "        nst_id = current_stage_id + 1 if current_stage_id <= len(self.stages) -1 else current_stage_id\n",
        "        lead.set_stage(nst_id)\n",
        "        log.append(f'Перемещаем лид {lead.lead_id} на следующий этап: {self.stages[nst_id]}')\n",
        "        return log"
      ],
      "metadata": {
        "id": "63tUPEeLz5e1"
      },
      "execution_count": 12,
      "outputs": []
    },
    {
      "cell_type": "markdown",
      "source": [
        "✏️ ✏️ ✏️\n",
        "\n",
        "**Проверка**\n",
        "\n",
        "Чтобы проверить свое решение, запустите код в следующих ячейках"
      ],
      "metadata": {
        "id": "wAeUY7ey0JGJ"
      }
    },
    {
      "cell_type": "code",
      "source": [
        "sales_funnel = SalesFunnel([\"Генерация лида\", \"Подтверждение\", \"Предложение\", \"Возражение\"])\n",
        "lead = Lead(\"123\", \"2023-07-01\", \"example.com\", \"Свяжитесь с нами\", \"ivan@example.com\", \"Иван Иванов\")\n",
        "res4 = sales_funnel.process_lead(lead)\n",
        "\n",
        "try:\n",
        "    assert res4 == ['Обработка лида 123 - Текущий этап: Генерация лида',\n",
        "                    'Не удалось отправить данные лида в CRM',\n",
        "                    'Перемещаем лид 123 на следующий этап: Подтверждение']\n",
        "except AssertionError:\n",
        "    print('Ответы не совпадают')\n",
        "else:\n",
        "    print('Поздравляем, Вы справились!')"
      ],
      "metadata": {
        "colab": {
          "base_uri": "https://localhost:8080/"
        },
        "id": "e2nVbdAn1IjH",
        "outputId": "862e9119-d889-4965-ae63-c5a382749bba"
      },
      "execution_count": 13,
      "outputs": [
        {
          "output_type": "stream",
          "name": "stdout",
          "text": [
            "Поздравляем, Вы справились!\n"
          ]
        }
      ]
    },
    {
      "cell_type": "code",
      "source": [],
      "metadata": {
        "id": "5TrEuC1O1dmg"
      },
      "execution_count": null,
      "outputs": []
    }
  ]
}