{
  "nbformat": 4,
  "nbformat_minor": 0,
  "metadata": {
    "colab": {
      "provenance": [],
      "include_colab_link": true
    },
    "kernelspec": {
      "name": "python3",
      "display_name": "Python 3"
    },
    "language_info": {
      "name": "python"
    }
  },
  "cells": [
    {
      "cell_type": "markdown",
      "metadata": {
        "id": "view-in-github",
        "colab_type": "text"
      },
      "source": [
        "<a href=\"https://colab.research.google.com/github/krutse/sim-git/blob/master/python/Ch25/krutse_%D0%A2%D1%80%D0%B5%D0%BA_%D0%B7%D0%B0%D0%B4%D0%B0%D1%87.ipynb\" target=\"_parent\"><img src=\"https://colab.research.google.com/assets/colab-badge.svg\" alt=\"Open In Colab\"/></a>"
      ]
    },
    {
      "cell_type": "markdown",
      "source": [
        "## **2 кейс**\n",
        "\n",
        "**Трек задач**"
      ],
      "metadata": {
        "id": "XUqCUBW5fUST"
      }
    },
    {
      "cell_type": "markdown",
      "source": [
        "### **Решения**"
      ],
      "metadata": {
        "id": "CxmnD3GvffQ4"
      }
    },
    {
      "cell_type": "markdown",
      "source": [
        "#### **Задача 1**\n",
        "\n",
        "Для начала определите классы `Task` и `Project`."
      ],
      "metadata": {
        "id": "5bdLXu2ksLB7"
      }
    },
    {
      "cell_type": "markdown",
      "source": [
        "**Решение**\n",
        "\n",
        "Напишите свое решение ниже"
      ],
      "metadata": {
        "id": "qUL4LtIUnJge"
      }
    },
    {
      "cell_type": "code",
      "source": [
        "class Task:\n",
        "    def __init__(self, task_id, name, description, status, duration):\n",
        "        self.task_id = task_id\n",
        "        self._name = name\n",
        "        self._description = description\n",
        "        self._status = status\n",
        "        self._duration = duration\n",
        "\n",
        "    def get_name(self):\n",
        "        return self._name\n",
        "\n",
        "    def get_description(self):\n",
        "        return self._description\n",
        "\n",
        "    def get_status(self):\n",
        "        return self._status\n",
        "\n",
        "    def get_duration(self):\n",
        "        return self._duration"
      ],
      "metadata": {
        "id": "Ia39hhmZbNRW"
      },
      "execution_count": 15,
      "outputs": []
    },
    {
      "cell_type": "code",
      "source": [
        "class Project(Task):\n",
        "    def __init__(self):\n",
        "        self.tasks = []\n",
        "\n",
        "    def add_task(self, task):\n",
        "        self.tasks.append(task)\n",
        "\n",
        "    def remove_task(self, id):\n",
        "        del self.tasks[id]\n",
        "\n",
        "    def get_all_tasks(self):\n",
        "        return self.tasks\n",
        "\n",
        "    def __iter__(self):\n",
        "        return iter(self.tasks)\n"
      ],
      "metadata": {
        "id": "i-cVKsFc-4fS"
      },
      "execution_count": 16,
      "outputs": []
    },
    {
      "cell_type": "code",
      "source": [
        "#@title ✏️ Проверка: чтобы проверить свое решение запустите код в этой ячейке\n",
        "task1 = Task(1, \"Задача 1\", \"Описание\", \"Выполняется\", 14)\n",
        "task2 = Task(2, \"Задача 2\", \"Описание\", \"Выполняется\", 8)\n",
        "task3 = Task(3, \"Задача 3\", \"Описание\", \"Завершена\", 3)\n",
        "task4 = Task(4, \"Задача 4\", \"Описание: срочно\", \"Выполняется\", 7)\n",
        "\n",
        "project = Project()\n",
        "project.add_task(task1)\n",
        "project.add_task(task2)\n",
        "project.add_task(task3)\n",
        "project.add_task(task4)\n",
        "\n",
        "res = []\n",
        "for task in project:\n",
        "  name = task.get_name()\n",
        "  description = task.get_description()\n",
        "  status = task.get_status()\n",
        "  res.append((name, description, status))\n",
        "\n",
        "try:\n",
        "    assert res == [('Задача 1', 'Описание', 'Выполняется'),\n",
        "                   ('Задача 2', 'Описание', 'Выполняется'),\n",
        "                   ('Задача 3', 'Описание', 'Завершена'),\n",
        "                   ('Задача 4', 'Описание: срочно', 'Выполняется')]\n",
        "except AssertionError:\n",
        "    print('Ответы не совпадают')\n",
        "else:\n",
        "    print('Поздравляем, Вы справились!')"
      ],
      "metadata": {
        "id": "LkqzVw9skKEC",
        "colab": {
          "base_uri": "https://localhost:8080/"
        },
        "outputId": "5ddeae89-8619-4fc4-807e-189ce1d207b7",
        "cellView": "form"
      },
      "execution_count": 4,
      "outputs": [
        {
          "output_type": "stream",
          "name": "stdout",
          "text": [
            "Поздравляем, Вы справились!\n"
          ]
        }
      ]
    },
    {
      "cell_type": "markdown",
      "source": [
        "#### **Задача 2**\n",
        "\n",
        "Определите класс `Analysis`."
      ],
      "metadata": {
        "id": "QLNMvvhXoIdV"
      }
    },
    {
      "cell_type": "markdown",
      "source": [
        "**Решение**\n",
        "\n",
        "Напишите свое решение ниже"
      ],
      "metadata": {
        "id": "LThhpSINoMHN"
      }
    },
    {
      "cell_type": "code",
      "source": [
        "class Analysis:\n",
        "    def count_tasks(project):\n",
        "        return len(project.get_all_tasks())\n",
        "\n",
        "    def count_tasks_by_status(project, status):\n",
        "        return len([p for p in project if p.get_status() == status])\n",
        "\n",
        "    def find_longest_task(project):\n",
        "        return max(project, key = lambda x: x.get_duration())"
      ],
      "metadata": {
        "id": "9s8JBMlboJuf"
      },
      "execution_count": 17,
      "outputs": []
    },
    {
      "cell_type": "code",
      "source": [
        "#@title ✏️ Проверка: чтобы проверить свое решение запустите код в этой ячейке\n",
        "res2 = Analysis.count_tasks(project)\n",
        "res3 = Analysis.count_tasks_by_status(project, \"Выполняется\")\n",
        "res4 = Analysis.find_longest_task(project).get_name()\n",
        "\n",
        "try:\n",
        "    assert res2 == 4\n",
        "    assert res3 == 3\n",
        "    assert res4 == 'Задача 1'\n",
        "except AssertionError:\n",
        "    print('Ответы не совпадают')\n",
        "else:\n",
        "    print('Поздравляем, Вы справились!')"
      ],
      "metadata": {
        "colab": {
          "base_uri": "https://localhost:8080/"
        },
        "id": "a36bM9j9tD7l",
        "outputId": "df037a8f-23fb-406d-fd8f-658d56838208"
      },
      "execution_count": 18,
      "outputs": [
        {
          "output_type": "stream",
          "name": "stdout",
          "text": [
            "Поздравляем, Вы справились!\n"
          ]
        }
      ]
    },
    {
      "cell_type": "markdown",
      "source": [
        "#### **Задача 3**\n",
        "\n",
        "Напишите `EnhancedAnalysis`"
      ],
      "metadata": {
        "id": "AwB-HtPLtjyl"
      }
    },
    {
      "cell_type": "markdown",
      "source": [
        "**Решение**\n",
        "\n",
        "Напишите свое решение ниже"
      ],
      "metadata": {
        "id": "GOTB--hmt2xw"
      }
    },
    {
      "cell_type": "code",
      "source": [
        "class EnhancedAnalysis(Analysis):\n",
        "    def find_tasks_with_keywords(project, keywords):\n",
        "        kw = set(keywords)\n",
        "        return [t for t in project if not kw.isdisjoint(set(t.get_description().split())) or not kw.isdisjoint(set(t.get_name().split())) ]"
      ],
      "metadata": {
        "id": "fz7nRb_ntKMv"
      },
      "execution_count": 19,
      "outputs": []
    },
    {
      "cell_type": "code",
      "source": [
        "#@title ✏️ Проверка: чтобы проверить свое решение запустите код в этой ячейке\n",
        "keywords = [\"срочно\"]\n",
        "found_tasks = EnhancedAnalysis.find_tasks_with_keywords(project, keywords)\n",
        "res5 = []\n",
        "for task in found_tasks:\n",
        "  res5.append(task.get_name())\n",
        "\n",
        "try:\n",
        "    assert res5 == ['Задача 4']\n",
        "except AssertionError:\n",
        "    print('Ответы не совпадают')\n",
        "else:\n",
        "    print('Поздравляем, Вы справились!')"
      ],
      "metadata": {
        "colab": {
          "base_uri": "https://localhost:8080/"
        },
        "id": "KzV-hUKcvxb2",
        "outputId": "a468bf55-ec67-4ba3-90a9-c113dbfbdbda",
        "cellView": "form"
      },
      "execution_count": 20,
      "outputs": [
        {
          "output_type": "stream",
          "name": "stdout",
          "text": [
            "Поздравляем, Вы справились!\n"
          ]
        }
      ]
    }
  ]
}